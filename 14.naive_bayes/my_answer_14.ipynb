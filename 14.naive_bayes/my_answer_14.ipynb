{
 "cells": [
  {
   "cell_type": "code",
   "execution_count": 8,
   "outputs": [],
   "source": [
    "import numpy as np\n",
    "import pandas as pd\n",
    "from matplotlib import pyplot as plt\n",
    "import seaborn as sns\n"
   ],
   "metadata": {
    "collapsed": false,
    "ExecuteTime": {
     "end_time": "2024-04-03T13:37:50.226453940Z",
     "start_time": "2024-04-03T13:37:50.224935396Z"
    }
   },
   "id": "17e1f64ee99b6884"
  },
  {
   "cell_type": "code",
   "execution_count": 9,
   "outputs": [
    {
     "data": {
      "text/plain": "['DESCR', 'data', 'feature_names', 'frame', 'target', 'target_names']"
     },
     "execution_count": 9,
     "metadata": {},
     "output_type": "execute_result"
    }
   ],
   "source": [
    "from sklearn.datasets import load_wine\n",
    "wine = load_wine()\n",
    "dir (wine)"
   ],
   "metadata": {
    "collapsed": false,
    "ExecuteTime": {
     "end_time": "2024-04-03T13:37:51.175071542Z",
     "start_time": "2024-04-03T13:37:51.172153628Z"
    }
   },
   "id": "181b044523c9131f"
  },
  {
   "cell_type": "code",
   "execution_count": 10,
   "outputs": [],
   "source": [
    "df =pd.DataFrame(wine.data)"
   ],
   "metadata": {
    "collapsed": false,
    "ExecuteTime": {
     "end_time": "2024-04-03T13:37:52.262171887Z",
     "start_time": "2024-04-03T13:37:52.260496590Z"
    }
   },
   "id": "d24a9bc44d5e188"
  },
  {
   "cell_type": "code",
   "execution_count": 11,
   "outputs": [],
   "source": [
    "df.columns = wine.feature_names\n",
    "df\n",
    "df['target']= wine.target\n"
   ],
   "metadata": {
    "collapsed": false,
    "ExecuteTime": {
     "end_time": "2024-04-03T13:37:54.471277940Z",
     "start_time": "2024-04-03T13:37:54.469574810Z"
    }
   },
   "id": "30cad54ba89959f1"
  },
  {
   "cell_type": "code",
   "execution_count": 22,
   "outputs": [
    {
     "data": {
      "text/plain": "dict_keys([0, 1, 2])"
     },
     "execution_count": 22,
     "metadata": {},
     "output_type": "execute_result"
    }
   ],
   "source": [
    "g=df.groupby('target')\n",
    "g.ngroups\n",
    "g.groups\n",
    "g.groups.keys()"
   ],
   "metadata": {
    "collapsed": false,
    "ExecuteTime": {
     "end_time": "2024-04-03T13:48:17.272947396Z",
     "start_time": "2024-04-03T13:48:17.265590114Z"
    }
   },
   "id": "d17e39374efa8fd"
  },
  {
   "cell_type": "code",
   "execution_count": 5,
   "outputs": [
    {
     "data": {
      "text/plain": "alcohol  malic_acid  ash    alcalinity_of_ash  magnesium  total_phenols  flavanoids  nonflavanoid_phenols  proanthocyanins  color_intensity  hue    od280/od315_of_diluted_wines  proline  target\nFalse    False       False  False              False      False          False       False                 False            False            False  False                         False    False     178\ndtype: int64"
     },
     "execution_count": 5,
     "metadata": {},
     "output_type": "execute_result"
    }
   ],
   "source": [
    "df.isna().value_counts()"
   ],
   "metadata": {
    "collapsed": false,
    "ExecuteTime": {
     "end_time": "2024-04-03T13:37:36.411847663Z",
     "start_time": "2024-04-03T13:37:36.396787061Z"
    }
   },
   "id": "a6e6ee5e62243689"
  },
  {
   "cell_type": "code",
   "execution_count": 6,
   "outputs": [
    {
     "data": {
      "text/plain": "alcohol                         0\nmalic_acid                      0\nash                             0\nalcalinity_of_ash               0\nmagnesium                       0\ntotal_phenols                   0\nflavanoids                      0\nnonflavanoid_phenols            0\nproanthocyanins                 0\ncolor_intensity                 0\nhue                             0\nod280/od315_of_diluted_wines    0\nproline                         0\ntarget                          0\ndtype: int64"
     },
     "execution_count": 6,
     "metadata": {},
     "output_type": "execute_result"
    }
   ],
   "source": [
    "df.isna().sum()"
   ],
   "metadata": {
    "collapsed": false,
    "ExecuteTime": {
     "end_time": "2024-04-03T13:37:36.435527423Z",
     "start_time": "2024-04-03T13:37:36.407887452Z"
    }
   },
   "id": "61708a8679d34464"
  },
  {
   "cell_type": "code",
   "execution_count": 27,
   "outputs": [],
   "source": [
    "y= df['target']\n",
    "X= df.drop('target',axis =1)"
   ],
   "metadata": {
    "collapsed": false,
    "ExecuteTime": {
     "end_time": "2024-04-03T14:26:54.603978870Z",
     "start_time": "2024-04-03T14:26:54.600731047Z"
    }
   },
   "id": "7fc8a341cd043dad"
  },
  {
   "cell_type": "code",
   "execution_count": 28,
   "outputs": [
    {
     "data": {
      "text/plain": "<Axes: xlabel='target', ylabel='Count'>"
     },
     "execution_count": 28,
     "metadata": {},
     "output_type": "execute_result"
    },
    {
     "data": {
      "text/plain": "<Figure size 640x480 with 1 Axes>",
      "image/png": "[encoded data removed]"
     },
     "metadata": {},
     "output_type": "display_data"
    }
   ],
   "source": [
    "sns.histplot(data=df.target,kde= True)\n"
   ],
   "metadata": {
    "collapsed": false,
    "ExecuteTime": {
     "end_time": "2024-04-03T14:26:57.147960475Z",
     "start_time": "2024-04-03T14:26:56.937955714Z"
    }
   },
   "id": "52e6159bb3b7f2a4"
  },
  {
   "cell_type": "code",
   "execution_count": 32,
   "outputs": [
    {
     "data": {
      "text/plain": "0.9663492063492063"
     },
     "execution_count": 32,
     "metadata": {},
     "output_type": "execute_result"
    }
   ],
   "source": [
    "from sklearn.model_selection import cross_val_score\n",
    "from sklearn.model_selection import KFold\n",
    "from sklearn.naive_bayes import GaussianNB,MultinomialNB\n",
    "gmodel = GaussianNB()\n",
    "gmodel_scores=cross_val_score(gmodel,X,y,cv=5)\n",
    "gmodel_scores_mean= gmodel_scores.mean()\n",
    "gmodel_scores_mean"
   ],
   "metadata": {
    "collapsed": false,
    "ExecuteTime": {
     "end_time": "2024-04-03T14:29:08.675266418Z",
     "start_time": "2024-04-03T14:29:08.658244907Z"
    }
   },
   "id": "f3b10644af24e048"
  },
  {
   "cell_type": "code",
   "execution_count": 34,
   "outputs": [
    {
     "data": {
      "text/plain": "0.843968253968254"
     },
     "execution_count": 34,
     "metadata": {},
     "output_type": "execute_result"
    }
   ],
   "source": [
    "mmodel= MultinomialNB()\n",
    "mmodel_scores = cross_val_score(mmodel,X,y,cv=5)\n",
    "mmodel_scores\n",
    "mmodel_scores_mean = mmodel_scores.mean()\n",
    "mmodel_scores_mean"
   ],
   "metadata": {
    "collapsed": false,
    "ExecuteTime": {
     "end_time": "2024-04-03T14:31:17.117018813Z",
     "start_time": "2024-04-03T14:31:17.095423507Z"
    }
   },
   "id": "55846aced9060fe6"
  },
  {
   "cell_type": "code",
   "execution_count": null,
   "outputs": [],
   "source": [],
   "metadata": {
    "collapsed": false
   },
   "id": "14c0213209107ec"
  }
 ],
 "metadata": {
  "kernelspec": {
   "display_name": "Python 3",
   "language": "python",
   "name": "python3"
  },
  "language_info": {
   "codemirror_mode": {
    "name": "ipython",
    "version": 2
   },
   "file_extension": ".py",
   "mimetype": "text/x-python",
   "name": "python",
   "nbconvert_exporter": "python",
   "pygments_lexer": "ipython2",
   "version": "2.7.6"
  }
 },
 "nbformat": 4,
 "nbformat_minor": 5
}
