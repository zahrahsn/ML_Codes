{
 "cells": [
  {
   "cell_type": "code",
   "execution_count": 1,
   "id": "initial_id",
   "metadata": {
    "collapsed": true,
    "ExecuteTime": {
     "end_time": "2024-04-04T20:32:06.534795209Z",
     "start_time": "2024-04-04T20:32:06.486840200Z"
    }
   },
   "outputs": [],
   "source": [
    "import numpy as np\n",
    "import pandas as pd\n",
    "from matplotlib import pyplot as plt\n",
    "import seaborn as sns"
   ]
  },
  {
   "cell_type": "code",
   "execution_count": 2,
   "outputs": [],
   "source": [
    "from sklearn.datasets import load_digits"
   ],
   "metadata": {
    "collapsed": false,
    "ExecuteTime": {
     "end_time": "2024-04-04T20:32:06.738510263Z",
     "start_time": "2024-04-04T20:32:06.528931094Z"
    }
   },
   "id": "284fc72e0b025712"
  },
  {
   "cell_type": "code",
   "execution_count": 3,
   "outputs": [
    {
     "data": {
      "text/plain": "array([0, 1, 2, ..., 8, 9, 8])"
     },
     "execution_count": 3,
     "metadata": {},
     "output_type": "execute_result"
    }
   ],
   "source": [
    "digits = load_digits()\n",
    "dir(digits)\n",
    "digits.target"
   ],
   "metadata": {
    "collapsed": false,
    "ExecuteTime": {
     "end_time": "2024-04-04T20:32:06.754790376Z",
     "start_time": "2024-04-04T20:32:06.740003719Z"
    }
   },
   "id": "f53b5570813de2ab"
  },
  {
   "cell_type": "code",
   "execution_count": 4,
   "outputs": [],
   "source": [
    "df = pd.DataFrame(digits.data, columns=digits.feature_names)\n",
    "df['target'] = digits.target\n",
    "df\n",
    "y= df['target']\n",
    "X= df.drop('target',axis=1)"
   ],
   "metadata": {
    "collapsed": false,
    "ExecuteTime": {
     "end_time": "2024-04-04T20:32:06.774095081Z",
     "start_time": "2024-04-04T20:32:06.760829902Z"
    }
   },
   "id": "ad008c1738b52d82"
  },
  {
   "cell_type": "code",
   "execution_count": 5,
   "outputs": [],
   "source": [
    "from sklearn import svm\n",
    "from sklearn.ensemble import RandomForestClassifier\n",
    "from sklearn.linear_model import LogisticRegression\n",
    "from sklearn.tree import DecisionTreeClassifier\n",
    "from sklearn.naive_bayes import GaussianNB, MultinomialNB"
   ],
   "metadata": {
    "collapsed": false,
    "ExecuteTime": {
     "end_time": "2024-04-04T20:32:06.863629089Z",
     "start_time": "2024-04-04T20:32:06.767616968Z"
    }
   },
   "id": "374141508754c8a2"
  },
  {
   "cell_type": "code",
   "execution_count": 6,
   "outputs": [],
   "source": [
    "model_params = {\n",
    "    'svm': {\n",
    "        'model': svm.SVC(gamma='auto', ),\n",
    "        'params': {\n",
    "            'C': [1, 10, 20],\n",
    "            'kernel': ['rbf', 'linear']\n",
    "        }\n",
    "    },\n",
    "    'RandomForestClassifier': {\n",
    "        'model': RandomForestClassifier(),\n",
    "        'params': {\n",
    "            'n_estimators': [10, 50, 100]\n",
    "        }\n",
    "    },\n",
    "    'logisticRegression': {\n",
    "        'model': LogisticRegression(multi_class='auto',solver='liblinear'),\n",
    "        'params': {\n",
    "            \n",
    "            'C': [1, 20, 100]\n",
    "        }\n",
    "    },\n",
    "    'naivGaussian': {\n",
    "        'model': GaussianNB(),\n",
    "        'params': {\n",
    "\n",
    "        }\n",
    "\n",
    "    },\n",
    "    'naiveMultinomial': {\n",
    "        'model': MultinomialNB(),\n",
    "        'params': {}\n",
    "    },\n",
    "    'tree': {\n",
    "        'model': DecisionTreeClassifier(),\n",
    "        'params': {\n",
    "            'criterion': ['gini', 'entropy']\n",
    "\n",
    "        }\n",
    "    }\n",
    "\n",
    "}\n",
    "\n",
    "\n"
   ],
   "metadata": {
    "collapsed": false,
    "ExecuteTime": {
     "end_time": "2024-04-04T20:32:06.909150711Z",
     "start_time": "2024-04-04T20:32:06.865694493Z"
    }
   },
   "id": "acf0064010e42fc0"
  },
  {
   "cell_type": "code",
   "execution_count": 7,
   "outputs": [],
   "source": [
    "from sklearn.model_selection import GridSearchCV\n",
    "# for model,params in model_params.items():\n",
    "#     print(f'model {model} has parameter {model_params}')"
   ],
   "metadata": {
    "collapsed": false,
    "ExecuteTime": {
     "end_time": "2024-04-04T20:32:06.909476445Z",
     "start_time": "2024-04-04T20:32:06.908938551Z"
    }
   },
   "id": "3e3354806d99895c"
  },
  {
   "cell_type": "code",
   "execution_count": 8,
   "outputs": [],
   "source": [
    "# scores = []\n",
    "# \n",
    "# for model_name, mp in model_params.items():\n",
    "#     clf =  GridSearchCV(mp['model'], mp['params'], cv=5, return_train_score=False)\n",
    "#     clf.fit(X, y)\n",
    "#     scores.append({\n",
    "#         'model': model_name,\n",
    "#         'best_score': clf.best_score_,\n",
    "#         'best_params': clf.best_params_\n",
    "#     })\n",
    "#     \n",
    "# df = pd.DataFrame(scores,columns=['model','best_score','best_params'])\n",
    "# df"
   ],
   "metadata": {
    "collapsed": false,
    "ExecuteTime": {
     "end_time": "2024-04-04T20:32:06.909995935Z",
     "start_time": "2024-04-04T20:32:06.909334277Z"
    }
   },
   "id": "e24d5ee555747636"
  },
  {
   "cell_type": "code",
   "execution_count": 12,
   "outputs": [
    {
     "data": {
      "text/plain": "[{'Model': 'svm',\n  'BestScore': 0.9604872749844816,\n  'BestParams': {'C': 1, 'kernel': 'linear'}},\n {'Model': 'RandomForestClassifier',\n  'BestScore': 0.9526939788950962,\n  'BestParams': {'n_estimators': 50}},\n {'Model': 'logisticRegression',\n  'BestScore': 0.9259745499689634,\n  'BestParams': {'C': 1}},\n {'Model': 'naivGaussian', 'BestScore': 0.8113904407200497, 'BestParams': {}},\n {'Model': 'naiveMultinomial',\n  'BestScore': 0.8797858472998138,\n  'BestParams': {}},\n {'Model': 'tree',\n  'BestScore': 0.8241278708876475,\n  'BestParams': {'criterion': 'gini'}}]"
     },
     "execution_count": 12,
     "metadata": {},
     "output_type": "execute_result"
    }
   ],
   "source": [
    "\n",
    "scores={}\n",
    "for model_name,mp in model_params.items():\n",
    "    clf= GridSearchCV(mp['model'],mp['params'],cv=10,return_train_score=False)\n",
    "    clf.fit(X,y)\n",
    "    scores[model_name]={\n",
    "    'Model': model_name,\n",
    "    'BestScore': clf.best_score_,\n",
    "    'BestParams': clf.best_params_\n",
    "    }\n"
   ],
   "metadata": {
    "collapsed": false,
    "ExecuteTime": {
     "end_time": "2024-04-04T20:37:31.181414144Z",
     "start_time": "2024-04-04T20:37:13.723546706Z"
    }
   },
   "id": "6b56abfbb9b3c959"
  },
  {
   "cell_type": "code",
   "execution_count": 14,
   "outputs": [],
   "source": [
    "list_scores=list(scores.values())"
   ],
   "metadata": {
    "collapsed": false,
    "ExecuteTime": {
     "end_time": "2024-04-04T20:39:17.182516183Z",
     "start_time": "2024-04-04T20:39:17.171505775Z"
    }
   },
   "id": "520be6fa2db55cff"
  },
  {
   "cell_type": "code",
   "execution_count": 15,
   "outputs": [
    {
     "data": {
      "text/plain": "                    Model  BestScore                    BestParams\n0                     svm   0.960487  {'C': 1, 'kernel': 'linear'}\n1  RandomForestClassifier   0.952694          {'n_estimators': 50}\n2      logisticRegression   0.925975                      {'C': 1}\n3            naivGaussian   0.811390                            {}\n4        naiveMultinomial   0.879786                            {}\n5                    tree   0.824128         {'criterion': 'gini'}",
      "text/html": "<div>\n<style scoped>\n    .dataframe tbody tr th:only-of-type {\n        vertical-align: middle;\n    }\n\n    .dataframe tbody tr th {\n        vertical-align: top;\n    }\n\n    .dataframe thead th {\n        text-align: right;\n    }\n</style>\n<table border=\"1\" class=\"dataframe\">\n  <thead>\n    <tr style=\"text-align: right;\">\n      <th></th>\n      <th>Model</th>\n      <th>BestScore</th>\n      <th>BestParams</th>\n    </tr>\n  </thead>\n  <tbody>\n    <tr>\n      <th>0</th>\n      <td>svm</td>\n      <td>0.960487</td>\n      <td>{'C': 1, 'kernel': 'linear'}</td>\n    </tr>\n    <tr>\n      <th>1</th>\n      <td>RandomForestClassifier</td>\n      <td>0.952694</td>\n      <td>{'n_estimators': 50}</td>\n    </tr>\n    <tr>\n      <th>2</th>\n      <td>logisticRegression</td>\n      <td>0.925975</td>\n      <td>{'C': 1}</td>\n    </tr>\n    <tr>\n      <th>3</th>\n      <td>naivGaussian</td>\n      <td>0.811390</td>\n      <td>{}</td>\n    </tr>\n    <tr>\n      <th>4</th>\n      <td>naiveMultinomial</td>\n      <td>0.879786</td>\n      <td>{}</td>\n    </tr>\n    <tr>\n      <th>5</th>\n      <td>tree</td>\n      <td>0.824128</td>\n      <td>{'criterion': 'gini'}</td>\n    </tr>\n  </tbody>\n</table>\n</div>"
     },
     "execution_count": 15,
     "metadata": {},
     "output_type": "execute_result"
    }
   ],
   "source": [
    "scores_df= pd.DataFrame(list_scores,columns= ['Model','BestScore', 'BestParams'])\n",
    "scores_df"
   ],
   "metadata": {
    "collapsed": false,
    "ExecuteTime": {
     "end_time": "2024-04-04T20:39:32.905407893Z",
     "start_time": "2024-04-04T20:39:32.897176333Z"
    }
   },
   "id": "16ccd081256366f5"
  },
  {
   "cell_type": "code",
   "execution_count": 10,
   "outputs": [],
   "source": [],
   "metadata": {
    "collapsed": false,
    "ExecuteTime": {
     "end_time": "2024-04-04T20:32:23.944003272Z",
     "start_time": "2024-04-04T20:32:23.859840350Z"
    }
   },
   "id": "60c8b7e90655e4e1"
  }
 ],
 "metadata": {
  "kernelspec": {
   "display_name": "Python 3",
   "language": "python",
   "name": "python3"
  },
  "language_info": {
   "codemirror_mode": {
    "name": "ipython",
    "version": 2
   },
   "file_extension": ".py",
   "mimetype": "text/x-python",
   "name": "python",
   "nbconvert_exporter": "python",
   "pygments_lexer": "ipython2",
   "version": "2.7.6"
  }
 },
 "nbformat": 4,
 "nbformat_minor": 5
}
