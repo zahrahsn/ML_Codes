{
 "cells": [
  {
   "cell_type": "code",
   "execution_count": 18,
   "id": "initial_id",
   "metadata": {
    "collapsed": true,
    "ExecuteTime": {
     "end_time": "2024-02-22T13:36:23.028887056Z",
     "start_time": "2024-02-22T13:36:23.023234367Z"
    }
   },
   "outputs": [],
   "source": [
    "import pandas as pd \n",
    "import numpy as np\n",
    "import matplotlib.pyplot as plt\n",
    "import seaborn as sns\n",
    "from sklearn.linear_model import LinearRegression\n",
    "from sklearn.model_selection import train_test_split\n",
    "from sklearn.metrics import mean_squared_error,r2_score"
   ]
  },
  {
   "cell_type": "code",
   "execution_count": 3,
   "outputs": [
    {
     "data": {
      "text/plain": "(47, 2)"
     },
     "execution_count": 3,
     "metadata": {},
     "output_type": "execute_result"
    }
   ],
   "source": [
    "df = pd.read_csv('canada_per_capita_income.csv')\n",
    "df.shape"
   ],
   "metadata": {
    "collapsed": false,
    "ExecuteTime": {
     "end_time": "2024-02-22T13:23:59.078422816Z",
     "start_time": "2024-02-22T13:23:59.064456421Z"
    }
   },
   "id": "de21e36403a49f87"
  },
  {
   "cell_type": "code",
   "execution_count": 4,
   "outputs": [
    {
     "data": {
      "text/plain": "    year  per capita income (US$)\n0   1970              3399.299037\n1   1971              3768.297935\n2   1972              4251.175484\n3   1973              4804.463248\n4   1974              5576.514583\n5   1975              5998.144346\n6   1976              7062.131392\n7   1977              7100.126170\n8   1978              7247.967035\n9   1979              7602.912681\n10  1980              8355.968120\n11  1981              9434.390652\n12  1982              9619.438377\n13  1983             10416.536590\n14  1984             10790.328720\n15  1985             11018.955850\n16  1986             11482.891530\n17  1987             12974.806620\n18  1988             15080.283450\n19  1989             16426.725480\n20  1990             16838.673200\n21  1991             17266.097690\n22  1992             16412.083090\n23  1993             15875.586730\n24  1994             15755.820270\n25  1995             16369.317250\n26  1996             16699.826680\n27  1997             17310.757750\n28  1998             16622.671870\n29  1999             17581.024140\n30  2000             18987.382410\n31  2001             18601.397240\n32  2002             19232.175560\n33  2003             22739.426280\n34  2004             25719.147150\n35  2005             29198.055690\n36  2006             32738.262900\n37  2007             36144.481220\n38  2008             37446.486090\n39  2009             32755.176820\n40  2010             38420.522890\n41  2011             42334.711210\n42  2012             42665.255970\n43  2013             42676.468370\n44  2014             41039.893600\n45  2015             35175.188980\n46  2016             34229.193630",
      "text/html": "<div>\n<style scoped>\n    .dataframe tbody tr th:only-of-type {\n        vertical-align: middle;\n    }\n\n    .dataframe tbody tr th {\n        vertical-align: top;\n    }\n\n    .dataframe thead th {\n        text-align: right;\n    }\n</style>\n<table border=\"1\" class=\"dataframe\">\n  <thead>\n    <tr style=\"text-align: right;\">\n      <th></th>\n      <th>year</th>\n      <th>per capita income (US$)</th>\n    </tr>\n  </thead>\n  <tbody>\n    <tr>\n      <th>0</th>\n      <td>1970</td>\n      <td>3399.299037</td>\n    </tr>\n    <tr>\n      <th>1</th>\n      <td>1971</td>\n      <td>3768.297935</td>\n    </tr>\n    <tr>\n      <th>2</th>\n      <td>1972</td>\n      <td>4251.175484</td>\n    </tr>\n    <tr>\n      <th>3</th>\n      <td>1973</td>\n      <td>4804.463248</td>\n    </tr>\n    <tr>\n      <th>4</th>\n      <td>1974</td>\n      <td>5576.514583</td>\n    </tr>\n    <tr>\n      <th>5</th>\n      <td>1975</td>\n      <td>5998.144346</td>\n    </tr>\n    <tr>\n      <th>6</th>\n      <td>1976</td>\n      <td>7062.131392</td>\n    </tr>\n    <tr>\n      <th>7</th>\n      <td>1977</td>\n      <td>7100.126170</td>\n    </tr>\n    <tr>\n      <th>8</th>\n      <td>1978</td>\n      <td>7247.967035</td>\n    </tr>\n    <tr>\n      <th>9</th>\n      <td>1979</td>\n      <td>7602.912681</td>\n    </tr>\n    <tr>\n      <th>10</th>\n      <td>1980</td>\n      <td>8355.968120</td>\n    </tr>\n    <tr>\n      <th>11</th>\n      <td>1981</td>\n      <td>9434.390652</td>\n    </tr>\n    <tr>\n      <th>12</th>\n      <td>1982</td>\n      <td>9619.438377</td>\n    </tr>\n    <tr>\n      <th>13</th>\n      <td>1983</td>\n      <td>10416.536590</td>\n    </tr>\n    <tr>\n      <th>14</th>\n      <td>1984</td>\n      <td>10790.328720</td>\n    </tr>\n    <tr>\n      <th>15</th>\n      <td>1985</td>\n      <td>11018.955850</td>\n    </tr>\n    <tr>\n      <th>16</th>\n      <td>1986</td>\n      <td>11482.891530</td>\n    </tr>\n    <tr>\n      <th>17</th>\n      <td>1987</td>\n      <td>12974.806620</td>\n    </tr>\n    <tr>\n      <th>18</th>\n      <td>1988</td>\n      <td>15080.283450</td>\n    </tr>\n    <tr>\n      <th>19</th>\n      <td>1989</td>\n      <td>16426.725480</td>\n    </tr>\n    <tr>\n      <th>20</th>\n      <td>1990</td>\n      <td>16838.673200</td>\n    </tr>\n    <tr>\n      <th>21</th>\n      <td>1991</td>\n      <td>17266.097690</td>\n    </tr>\n    <tr>\n      <th>22</th>\n      <td>1992</td>\n      <td>16412.083090</td>\n    </tr>\n    <tr>\n      <th>23</th>\n      <td>1993</td>\n      <td>15875.586730</td>\n    </tr>\n    <tr>\n      <th>24</th>\n      <td>1994</td>\n      <td>15755.820270</td>\n    </tr>\n    <tr>\n      <th>25</th>\n      <td>1995</td>\n      <td>16369.317250</td>\n    </tr>\n    <tr>\n      <th>26</th>\n      <td>1996</td>\n      <td>16699.826680</td>\n    </tr>\n    <tr>\n      <th>27</th>\n      <td>1997</td>\n      <td>17310.757750</td>\n    </tr>\n    <tr>\n      <th>28</th>\n      <td>1998</td>\n      <td>16622.671870</td>\n    </tr>\n    <tr>\n      <th>29</th>\n      <td>1999</td>\n      <td>17581.024140</td>\n    </tr>\n    <tr>\n      <th>30</th>\n      <td>2000</td>\n      <td>18987.382410</td>\n    </tr>\n    <tr>\n      <th>31</th>\n      <td>2001</td>\n      <td>18601.397240</td>\n    </tr>\n    <tr>\n      <th>32</th>\n      <td>2002</td>\n      <td>19232.175560</td>\n    </tr>\n    <tr>\n      <th>33</th>\n      <td>2003</td>\n      <td>22739.426280</td>\n    </tr>\n    <tr>\n      <th>34</th>\n      <td>2004</td>\n      <td>25719.147150</td>\n    </tr>\n    <tr>\n      <th>35</th>\n      <td>2005</td>\n      <td>29198.055690</td>\n    </tr>\n    <tr>\n      <th>36</th>\n      <td>2006</td>\n      <td>32738.262900</td>\n    </tr>\n    <tr>\n      <th>37</th>\n      <td>2007</td>\n      <td>36144.481220</td>\n    </tr>\n    <tr>\n      <th>38</th>\n      <td>2008</td>\n      <td>37446.486090</td>\n    </tr>\n    <tr>\n      <th>39</th>\n      <td>2009</td>\n      <td>32755.176820</td>\n    </tr>\n    <tr>\n      <th>40</th>\n      <td>2010</td>\n      <td>38420.522890</td>\n    </tr>\n    <tr>\n      <th>41</th>\n      <td>2011</td>\n      <td>42334.711210</td>\n    </tr>\n    <tr>\n      <th>42</th>\n      <td>2012</td>\n      <td>42665.255970</td>\n    </tr>\n    <tr>\n      <th>43</th>\n      <td>2013</td>\n      <td>42676.468370</td>\n    </tr>\n    <tr>\n      <th>44</th>\n      <td>2014</td>\n      <td>41039.893600</td>\n    </tr>\n    <tr>\n      <th>45</th>\n      <td>2015</td>\n      <td>35175.188980</td>\n    </tr>\n    <tr>\n      <th>46</th>\n      <td>2016</td>\n      <td>34229.193630</td>\n    </tr>\n  </tbody>\n</table>\n</div>"
     },
     "execution_count": 4,
     "metadata": {},
     "output_type": "execute_result"
    }
   ],
   "source": [
    "df\n"
   ],
   "metadata": {
    "collapsed": false,
    "ExecuteTime": {
     "end_time": "2024-02-22T13:23:59.088502332Z",
     "start_time": "2024-02-22T13:23:59.072914531Z"
    }
   },
   "id": "452e33234371866f"
  },
  {
   "cell_type": "code",
   "execution_count": 5,
   "outputs": [
    {
     "data": {
      "text/plain": "<Axes: xlabel='year', ylabel='per capita income (US$)'>"
     },
     "execution_count": 5,
     "metadata": {},
     "output_type": "execute_result"
    },
    {
     "data": {
      "text/plain": "<Figure size 640x480 with 1 Axes>",
      "image/png": "[encoded data removed]"
     },
     "metadata": {},
     "output_type": "display_data"
    }
   ],
   "source": [
    "sns.scatterplot(x=df['year'], y=df['per capita income (US$)'])\n"
   ],
   "metadata": {
    "collapsed": false,
    "ExecuteTime": {
     "end_time": "2024-02-22T13:23:59.296320712Z",
     "start_time": "2024-02-22T13:23:59.087021494Z"
    }
   },
   "id": "41df2f308baf60cf"
  },
  {
   "cell_type": "code",
   "execution_count": 6,
   "outputs": [],
   "source": [
    "X= df['year']\n",
    "y= df['per capita income (US$)']\n",
    "X_train,X_test,y_train, y_test = train_test_split(X,y, test_size=0.2)\n",
    "reshaped_X_train = np.array(X_train).reshape(-1,1)\n",
    "X_test= np.array(X_test).reshape(-1,1)"
   ],
   "metadata": {
    "collapsed": false,
    "ExecuteTime": {
     "end_time": "2024-02-22T13:23:59.364464683Z",
     "start_time": "2024-02-22T13:23:59.296832667Z"
    }
   },
   "id": "22a0c20ea340b052"
  },
  {
   "cell_type": "code",
   "execution_count": 7,
   "outputs": [
    {
     "data": {
      "text/plain": "3     1973\n19    1989\n10    1980\n34    2004\n17    1987\n7     1977\n20    1990\n11    1981\n2     1972\n14    1984\n8     1978\n12    1982\n45    2015\n44    2014\n16    1986\n33    2003\n35    2005\n32    2002\n25    1995\n42    2012\n40    2010\n41    2011\n0     1970\n13    1983\n39    2009\n36    2006\n31    2001\n46    2016\n15    1985\n28    1998\n29    1999\n4     1974\n5     1975\n21    1991\n22    1992\n38    2008\n1     1971\nName: year, dtype: int64"
     },
     "execution_count": 7,
     "metadata": {},
     "output_type": "execute_result"
    }
   ],
   "source": [
    "X_train"
   ],
   "metadata": {
    "collapsed": false,
    "ExecuteTime": {
     "end_time": "2024-02-22T13:23:59.365107357Z",
     "start_time": "2024-02-22T13:23:59.338674893Z"
    }
   },
   "id": "bf8467ec5e5f5b47"
  },
  {
   "cell_type": "code",
   "execution_count": 40,
   "outputs": [
    {
     "name": "stdout",
     "output_type": "stream",
     "text": [
      "Model parameters: {'copy_X': True, 'fit_intercept': True, 'n_jobs': None, 'positive': False}\n"
     ]
    },
    {
     "data": {
      "text/plain": "array([19098.60920039, 21544.24367445, 24805.08963985, 30511.57007931,\n        7685.64832148,  5240.01384742, 19913.82069174, 15022.55174364,\n       22359.4551658 , 35402.83902742])"
     },
     "execution_count": 40,
     "metadata": {},
     "output_type": "execute_result"
    }
   ],
   "source": [
    "lin_model = LinearRegression()\n",
    "lin_model.fit(reshaped_X_train,y_train)\n",
    "preds=lin_model.predict(X_test)\n",
    "print(\"Model parameters:\", lin_model.get_params())\n",
    "preds"
   ],
   "metadata": {
    "collapsed": false,
    "ExecuteTime": {
     "end_time": "2024-02-22T15:34:43.743132341Z",
     "start_time": "2024-02-22T15:34:43.735160194Z"
    }
   },
   "id": "8b2cf5c4efe1ce2b"
  },
  {
   "cell_type": "code",
   "execution_count": 25,
   "outputs": [
    {
     "data": {
      "text/plain": "0.8303429592178462"
     },
     "execution_count": 25,
     "metadata": {},
     "output_type": "execute_result"
    }
   ],
   "source": [
    "mse = mean_squared_error(y_test,preds)\n",
    "mse\n",
    "rmse = np.sqrt(mse)\n",
    "rmse\n",
    "r2= r2_score(y_test, preds)\n",
    "r2"
   ],
   "metadata": {
    "collapsed": false,
    "ExecuteTime": {
     "end_time": "2024-02-22T13:40:59.570012843Z",
     "start_time": "2024-02-22T13:40:59.566630361Z"
    }
   },
   "id": "dc797de596ab253e"
  },
  {
   "cell_type": "code",
   "execution_count": 13,
   "outputs": [
    {
     "data": {
      "text/plain": "array([41109.31946687])"
     },
     "execution_count": 13,
     "metadata": {},
     "output_type": "execute_result"
    }
   ],
   "source": [
    "year = [[2020]]\n",
    "    \n",
    "# year= np.array(['2020'])\n",
    "pred = lin_model.predict(year)\n",
    "pred"
   ],
   "metadata": {
    "collapsed": false,
    "ExecuteTime": {
     "end_time": "2024-02-22T13:27:39.375913856Z",
     "start_time": "2024-02-22T13:27:39.370150776Z"
    }
   },
   "id": "d862250189b96fc3"
  },
  {
   "cell_type": "code",
   "execution_count": 31,
   "outputs": [
    {
     "data": {
      "text/plain": "<Axes: xlabel='per capita income (US$)'>"
     },
     "execution_count": 31,
     "metadata": {},
     "output_type": "execute_result"
    },
    {
     "data": {
      "text/plain": "<Figure size 640x480 with 1 Axes>",
      "image/png": "[encoded data removed]"
     },
     "metadata": {},
     "output_type": "display_data"
    }
   ],
   "source": [
    "sns.regplot(x=y_test,y=preds)"
   ],
   "metadata": {
    "collapsed": false,
    "ExecuteTime": {
     "end_time": "2024-02-22T14:08:39.302903172Z",
     "start_time": "2024-02-22T14:08:39.111748802Z"
    }
   },
   "id": "ac2fe248f0ef4be5"
  },
  {
   "cell_type": "code",
   "execution_count": 14,
   "outputs": [
    {
     "data": {
      "text/plain": "array([815.21149135])"
     },
     "execution_count": 14,
     "metadata": {},
     "output_type": "execute_result"
    }
   ],
   "source": [
    "lin_model.coef_"
   ],
   "metadata": {
    "collapsed": false,
    "ExecuteTime": {
     "end_time": "2024-02-22T13:28:22.193199714Z",
     "start_time": "2024-02-22T13:28:22.186557443Z"
    }
   },
   "id": "c49f93c27bdea11b"
  },
  {
   "cell_type": "code",
   "execution_count": 15,
   "outputs": [
    {
     "data": {
      "text/plain": "-1605617.8930624689"
     },
     "execution_count": 15,
     "metadata": {},
     "output_type": "execute_result"
    }
   ],
   "source": [
    "lin_model.intercept_"
   ],
   "metadata": {
    "collapsed": false,
    "ExecuteTime": {
     "end_time": "2024-02-22T13:28:48.514338318Z",
     "start_time": "2024-02-22T13:28:48.508024431Z"
    }
   },
   "id": "f135cb4d9f04fdce"
  },
  {
   "cell_type": "code",
   "execution_count": 17,
   "outputs": [
    {
     "data": {
      "text/plain": "41109.31875753123"
     },
     "execution_count": 17,
     "metadata": {},
     "output_type": "execute_result"
    }
   ],
   "source": [
    "manual_pred = (815.211491 * 2020) + -1605617.8930624689\n",
    "manual_pred"
   ],
   "metadata": {
    "collapsed": false,
    "ExecuteTime": {
     "end_time": "2024-02-22T13:32:48.752721001Z",
     "start_time": "2024-02-22T13:32:48.749926276Z"
    }
   },
   "id": "77cd26256d7d5ce9"
  },
  {
   "cell_type": "code",
   "execution_count": 38,
   "outputs": [
    {
     "data": {
      "text/plain": "   year        income\n0  1993  19098.609200\n1  1996  21544.243674\n2  2000  24805.089640\n3  2007  30511.570079\n4  1979   7685.648321\n5  1976   5240.013847\n6  1994  19913.820692\n7  1988  15022.551744\n8  1997  22359.455166\n9  2013  35402.839027",
      "text/html": "<div>\n<style scoped>\n    .dataframe tbody tr th:only-of-type {\n        vertical-align: middle;\n    }\n\n    .dataframe tbody tr th {\n        vertical-align: top;\n    }\n\n    .dataframe thead th {\n        text-align: right;\n    }\n</style>\n<table border=\"1\" class=\"dataframe\">\n  <thead>\n    <tr style=\"text-align: right;\">\n      <th></th>\n      <th>year</th>\n      <th>income</th>\n    </tr>\n  </thead>\n  <tbody>\n    <tr>\n      <th>0</th>\n      <td>1993</td>\n      <td>19098.609200</td>\n    </tr>\n    <tr>\n      <th>1</th>\n      <td>1996</td>\n      <td>21544.243674</td>\n    </tr>\n    <tr>\n      <th>2</th>\n      <td>2000</td>\n      <td>24805.089640</td>\n    </tr>\n    <tr>\n      <th>3</th>\n      <td>2007</td>\n      <td>30511.570079</td>\n    </tr>\n    <tr>\n      <th>4</th>\n      <td>1979</td>\n      <td>7685.648321</td>\n    </tr>\n    <tr>\n      <th>5</th>\n      <td>1976</td>\n      <td>5240.013847</td>\n    </tr>\n    <tr>\n      <th>6</th>\n      <td>1994</td>\n      <td>19913.820692</td>\n    </tr>\n    <tr>\n      <th>7</th>\n      <td>1988</td>\n      <td>15022.551744</td>\n    </tr>\n    <tr>\n      <th>8</th>\n      <td>1997</td>\n      <td>22359.455166</td>\n    </tr>\n    <tr>\n      <th>9</th>\n      <td>2013</td>\n      <td>35402.839027</td>\n    </tr>\n  </tbody>\n</table>\n</div>"
     },
     "execution_count": 38,
     "metadata": {},
     "output_type": "execute_result"
    }
   ],
   "source": [
    "years = X_test.flatten()\n",
    "final_df =pd.DataFrame({'year' :years,'income':preds})\n",
    "final_df\n"
   ],
   "metadata": {
    "collapsed": false,
    "ExecuteTime": {
     "end_time": "2024-02-22T14:43:42.374741371Z",
     "start_time": "2024-02-22T14:43:42.369085795Z"
    }
   },
   "id": "649b5244d0eace15"
  },
  {
   "cell_type": "code",
   "execution_count": 39,
   "outputs": [],
   "source": [
    "final_df.to_csv('my_prediction',index=False)"
   ],
   "metadata": {
    "collapsed": false,
    "ExecuteTime": {
     "end_time": "2024-02-22T14:45:38.405411892Z",
     "start_time": "2024-02-22T14:45:38.402345170Z"
    }
   },
   "id": "4179c2edcdfdac7f"
  },
  {
   "cell_type": "markdown",
   "source": [
    "# Using Trained Model"
   ],
   "metadata": {
    "collapsed": false
   },
   "id": "17c723bd1b18a205"
  },
  {
   "cell_type": "code",
   "execution_count": 33,
   "outputs": [],
   "source": [
    "import joblib"
   ],
   "metadata": {
    "collapsed": false,
    "ExecuteTime": {
     "end_time": "2024-02-22T14:13:33.876521471Z",
     "start_time": "2024-02-22T14:13:33.869675552Z"
    }
   },
   "id": "d91227dc2848f272"
  },
  {
   "cell_type": "code",
   "execution_count": 35,
   "outputs": [
    {
     "data": {
      "text/plain": "['./my_trained_model_canada_income.pkl']"
     },
     "execution_count": 35,
     "metadata": {},
     "output_type": "execute_result"
    }
   ],
   "source": [
    "# Save the model as a pickle file\n",
    "filename ='./my_trained_model_canada_income.pkl'\n",
    "joblib.dump(lin_model,filename)"
   ],
   "metadata": {
    "collapsed": false,
    "ExecuteTime": {
     "end_time": "2024-02-22T14:16:19.654737418Z",
     "start_time": "2024-02-22T14:16:19.646880890Z"
    }
   },
   "id": "db42e18554fdd44f"
  },
  {
   "cell_type": "code",
   "execution_count": null,
   "outputs": [],
   "source": [],
   "metadata": {
    "collapsed": false
   },
   "id": "26ddd8fc33eb2b6b"
  }
 ],
 "metadata": {
  "kernelspec": {
   "display_name": "Python 3",
   "language": "python",
   "name": "python3"
  },
  "language_info": {
   "codemirror_mode": {
    "name": "ipython",
    "version": 2
   },
   "file_extension": ".py",
   "mimetype": "text/x-python",
   "name": "python",
   "nbconvert_exporter": "python",
   "pygments_lexer": "ipython2",
   "version": "2.7.6"
  }
 },
 "nbformat": 4,
 "nbformat_minor": 5
}
