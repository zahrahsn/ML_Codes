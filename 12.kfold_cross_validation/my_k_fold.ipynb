{
 "cells": [
  {
   "cell_type": "code",
   "execution_count": 1,
   "id": "initial_id",
   "metadata": {
    "collapsed": true,
    "ExecuteTime": {
     "end_time": "2024-03-27T12:11:35.455640675Z",
     "start_time": "2024-03-27T12:11:35.294165416Z"
    }
   },
   "outputs": [],
   "source": [
    "import pandas as pd\n",
    "from sklearn.linear_model import LogisticRegression\n",
    "from sklearn.svm import SVC\n",
    "from sklearn.ensemble import RandomForestClassifier\n",
    "import numpy as np\n",
    "from sklearn.datasets import load_iris\n",
    "import matplotlib.pyplot as plt\n",
    "\n",
    "iris = load_iris()\n"
   ]
  },
  {
   "cell_type": "code",
   "execution_count": 49,
   "outputs": [],
   "source": [
    "\n",
    "from sklearn.model_selection import train_test_split\n",
    "df= pd.DataFrame(iris.data)\n",
    "df['target']= iris.target\n",
    "df\n",
    "y= df['target']\n",
    "X= df.drop(['target'],axis=1)\n",
    "# X_train, X_test, y_train, y_test = train_test_split(X, y, test_size=0.3)"
   ],
   "metadata": {
    "collapsed": false,
    "ExecuteTime": {
     "end_time": "2024-03-27T13:01:14.869725779Z",
     "start_time": "2024-03-27T13:01:14.867379555Z"
    }
   },
   "id": "50933aa0bcbb20d1"
  },
  {
   "cell_type": "code",
   "execution_count": 62,
   "outputs": [
    {
     "data": {
      "text/plain": "KFold(n_splits=2, random_state=None, shuffle=False)"
     },
     "execution_count": 62,
     "metadata": {},
     "output_type": "execute_result"
    }
   ],
   "source": [
    "from sklearn.model_selection import KFold\n",
    "kf = KFold(n_splits=2)\n",
    "kf"
   ],
   "metadata": {
    "collapsed": false,
    "ExecuteTime": {
     "end_time": "2024-03-27T13:21:21.697214970Z",
     "start_time": "2024-03-27T13:21:21.691730823Z"
    }
   },
   "id": "86ef8569a1519251"
  },
  {
   "cell_type": "code",
   "execution_count": 51,
   "outputs": [
    {
     "name": "stdout",
     "output_type": "stream",
     "text": [
      "0      0\n",
      "1      0\n",
      "2      0\n",
      "3      0\n",
      "4      0\n",
      "      ..\n",
      "145    2\n",
      "146    2\n",
      "147    2\n",
      "148    2\n",
      "149    2\n",
      "Name: target, Length: 150, dtype: int64\n"
     ]
    }
   ],
   "source": [
    "print(y)"
   ],
   "metadata": {
    "collapsed": false,
    "ExecuteTime": {
     "end_time": "2024-03-27T13:01:16.290910545Z",
     "start_time": "2024-03-27T13:01:16.288614819Z"
    }
   },
   "id": "550d841c467bf28"
  },
  {
   "cell_type": "code",
   "execution_count": 66,
   "outputs": [
    {
     "name": "stdout",
     "output_type": "stream",
     "text": [
      "(75,)\n",
      "(75,)\n",
      "The Train [ 75  76  77  78  79  80  81  82  83  84  85  86  87  88  89  90  91  92\n",
      "  93  94  95  96  97  98  99 100 101 102 103 104 105 106 107 108 109 110\n",
      " 111 112 113 114 115 116 117 118 119 120 121 122 123 124 125 126 127 128\n",
      " 129 130 131 132 133 134 135 136 137 138 139 140 141 142 143 144 145 146\n",
      " 147 148 149],The test [ 0  1  2  3  4  5  6  7  8  9 10 11 12 13 14 15 16 17 18 19 20 21 22 23\n",
      " 24 25 26 27 28 29 30 31 32 33 34 35 36 37 38 39 40 41 42 43 44 45 46 47\n",
      " 48 49 50 51 52 53 54 55 56 57 58 59 60 61 62 63 64 65 66 67 68 69 70 71\n",
      " 72 73 74]\n",
      "X_train: (75, 4)  X_test: (75, 4)  y_train: (75,)  y_test: (75,)\n",
      "(75,)\n",
      "(75,)\n",
      "The Train [ 0  1  2  3  4  5  6  7  8  9 10 11 12 13 14 15 16 17 18 19 20 21 22 23\n",
      " 24 25 26 27 28 29 30 31 32 33 34 35 36 37 38 39 40 41 42 43 44 45 46 47\n",
      " 48 49 50 51 52 53 54 55 56 57 58 59 60 61 62 63 64 65 66 67 68 69 70 71\n",
      " 72 73 74],The test [ 75  76  77  78  79  80  81  82  83  84  85  86  87  88  89  90  91  92\n",
      "  93  94  95  96  97  98  99 100 101 102 103 104 105 106 107 108 109 110\n",
      " 111 112 113 114 115 116 117 118 119 120 121 122 123 124 125 126 127 128\n",
      " 129 130 131 132 133 134 135 136 137 138 139 140 141 142 143 144 145 146\n",
      " 147 148 149]\n",
      "X_train: (75, 4)  X_test: (75, 4)  y_train: (75,)  y_test: (75,)\n"
     ]
    }
   ],
   "source": [
    "for train_index,test_index in kf.split(X):\n",
    "    print(np.shape(train_index))\n",
    "    print(np.shape(test_index))\n",
    "    print(f'The Train {train_index},The test {test_index}')\n",
    "    X_train, X_test = X.loc[train_index], X.loc[test_index]\n",
    "    y_train, y_test = y[train_index], y[test_index]\n",
    "    print(\"X_train:\", X_train.shape, \" X_test:\", X_test.shape, \" y_train:\", y_train.shape, \" y_test:\", y_test.shape)"
   ],
   "metadata": {
    "collapsed": false,
    "ExecuteTime": {
     "end_time": "2024-03-27T15:25:10.960118053Z",
     "start_time": "2024-03-27T15:25:10.953521681Z"
    }
   },
   "id": "930a84dce8af6d70"
  },
  {
   "cell_type": "markdown",
   "source": [
    "# Why do I need .loc and cannot have access directly by X[train_index] while X[0:3] for example can return a dataframe in which there are 3 rows and all their columns? \n",
    "I see, thank you for clarifying. The reason why X[train_index] may not work as expected compared to X[0:3] lies in the difference between the behavior of NumPy-style indexing and pandas-style indexing.\n",
    "\n",
    "When you use X[0:3], it's a form of NumPy-style slicing, which selects rows based on their integer positions regardless of the indices of the DataFrame. It selects rows 0 to 2 (inclusive) and includes all columns.\n",
    "\n",
    "However, when you use X[train_index], you're trying to perform NumPy-style indexing on a pandas DataFrame using an array of indices (train_index). This is where the behavior differs.\n",
    "\n",
    "In pandas, using arrays of indices directly for indexing (without using .iloc or .loc) is generally not supported. This is because pandas emphasizes label-based indexing (.loc) or integer-based indexing (.iloc) for selecting rows and columns.\n",
    "\n",
    "Therefore, to ensure that you're selecting the correct rows from X based on the indices in train_index, you should use .iloc[train_index] or .loc[train_index]. These methods explicitly tell pandas to select rows based on their integer positions (iloc) or index labels (loc).\n",
    "\n",
    "In summary, X[train_index] does not work as expected because it tries to perform NumPy-style indexing on a pandas DataFrame, which is not directly supported. Instead, you should use .iloc[train_index] or .loc[train_index] to achieve the desired selection of rows based on the indices in train_index."
   ],
   "metadata": {
    "collapsed": false
   },
   "id": "43a1b33d7184394c"
  },
  {
   "cell_type": "code",
   "execution_count": null,
   "outputs": [],
   "source": [],
   "metadata": {
    "collapsed": false
   },
   "id": "9b1018c54067c8ac"
  }
 ],
 "metadata": {
  "kernelspec": {
   "display_name": "Python 3",
   "language": "python",
   "name": "python3"
  },
  "language_info": {
   "codemirror_mode": {
    "name": "ipython",
    "version": 2
   },
   "file_extension": ".py",
   "mimetype": "text/x-python",
   "name": "python",
   "nbconvert_exporter": "python",
   "pygments_lexer": "ipython2",
   "version": "2.7.6"
  }
 },
 "nbformat": 4,
 "nbformat_minor": 5
}
