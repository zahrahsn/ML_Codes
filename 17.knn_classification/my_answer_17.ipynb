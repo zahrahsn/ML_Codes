{
 "cells": [
  {
   "cell_type": "code",
   "execution_count": 1,
   "id": "initial_id",
   "metadata": {
    "collapsed": true,
    "ExecuteTime": {
     "end_time": "2024-04-11T12:06:47.119607500Z",
     "start_time": "2024-04-11T12:06:47.019018777Z"
    }
   },
   "outputs": [],
   "source": [
    "import numpy as np \n",
    "import pandas as pd \n",
    "from sklearn.datasets import load_digits\n",
    "import matplotlib.pyplot as plt\n",
    "import seaborn as sns"
   ]
  },
  {
   "cell_type": "code",
   "execution_count": 2,
   "outputs": [
    {
     "data": {
      "text/plain": "['DESCR', 'data', 'feature_names', 'frame', 'images', 'target', 'target_names']"
     },
     "execution_count": 2,
     "metadata": {},
     "output_type": "execute_result"
    }
   ],
   "source": [
    "digits = load_digits()\n",
    "dir(digits)"
   ],
   "metadata": {
    "collapsed": false,
    "ExecuteTime": {
     "end_time": "2024-04-11T12:06:47.130866994Z",
     "start_time": "2024-04-11T12:06:47.120665064Z"
    }
   },
   "id": "21cb23364a70fceb"
  },
  {
   "cell_type": "code",
   "execution_count": 3,
   "outputs": [
    {
     "data": {
      "text/plain": "(1797, 64)"
     },
     "execution_count": 3,
     "metadata": {},
     "output_type": "execute_result"
    }
   ],
   "source": [
    "df= pd.DataFrame(digits.data, columns= digits.feature_names)\n",
    "df.shape"
   ],
   "metadata": {
    "collapsed": false,
    "ExecuteTime": {
     "end_time": "2024-04-11T12:06:47.134940458Z",
     "start_time": "2024-04-11T12:06:47.132357351Z"
    }
   },
   "id": "b1188b048d83cea9"
  },
  {
   "cell_type": "code",
   "execution_count": 4,
   "outputs": [],
   "source": [
    "df['target']= digits.target"
   ],
   "metadata": {
    "collapsed": false,
    "ExecuteTime": {
     "end_time": "2024-04-11T12:06:47.138269638Z",
     "start_time": "2024-04-11T12:06:47.136734989Z"
    }
   },
   "id": "3aa61802b37ec598"
  },
  {
   "cell_type": "code",
   "execution_count": 5,
   "outputs": [
    {
     "data": {
      "text/plain": "(1797, 65)"
     },
     "execution_count": 5,
     "metadata": {},
     "output_type": "execute_result"
    }
   ],
   "source": [
    "df.shape"
   ],
   "metadata": {
    "collapsed": false,
    "ExecuteTime": {
     "end_time": "2024-04-11T12:06:47.184206695Z",
     "start_time": "2024-04-11T12:06:47.139629022Z"
    }
   },
   "id": "93d6d535029cb364"
  },
  {
   "cell_type": "code",
   "execution_count": 6,
   "outputs": [
    {
     "name": "stdout",
     "output_type": "stream",
     "text": [
      "<class 'pandas.core.frame.DataFrame'>\n",
      "RangeIndex: 1797 entries, 0 to 1796\n",
      "Data columns (total 65 columns):\n",
      " #   Column     Non-Null Count  Dtype  \n",
      "---  ------     --------------  -----  \n",
      " 0   pixel_0_0  1797 non-null   float64\n",
      " 1   pixel_0_1  1797 non-null   float64\n",
      " 2   pixel_0_2  1797 non-null   float64\n",
      " 3   pixel_0_3  1797 non-null   float64\n",
      " 4   pixel_0_4  1797 non-null   float64\n",
      " 5   pixel_0_5  1797 non-null   float64\n",
      " 6   pixel_0_6  1797 non-null   float64\n",
      " 7   pixel_0_7  1797 non-null   float64\n",
      " 8   pixel_1_0  1797 non-null   float64\n",
      " 9   pixel_1_1  1797 non-null   float64\n",
      " 10  pixel_1_2  1797 non-null   float64\n",
      " 11  pixel_1_3  1797 non-null   float64\n",
      " 12  pixel_1_4  1797 non-null   float64\n",
      " 13  pixel_1_5  1797 non-null   float64\n",
      " 14  pixel_1_6  1797 non-null   float64\n",
      " 15  pixel_1_7  1797 non-null   float64\n",
      " 16  pixel_2_0  1797 non-null   float64\n",
      " 17  pixel_2_1  1797 non-null   float64\n",
      " 18  pixel_2_2  1797 non-null   float64\n",
      " 19  pixel_2_3  1797 non-null   float64\n",
      " 20  pixel_2_4  1797 non-null   float64\n",
      " 21  pixel_2_5  1797 non-null   float64\n",
      " 22  pixel_2_6  1797 non-null   float64\n",
      " 23  pixel_2_7  1797 non-null   float64\n",
      " 24  pixel_3_0  1797 non-null   float64\n",
      " 25  pixel_3_1  1797 non-null   float64\n",
      " 26  pixel_3_2  1797 non-null   float64\n",
      " 27  pixel_3_3  1797 non-null   float64\n",
      " 28  pixel_3_4  1797 non-null   float64\n",
      " 29  pixel_3_5  1797 non-null   float64\n",
      " 30  pixel_3_6  1797 non-null   float64\n",
      " 31  pixel_3_7  1797 non-null   float64\n",
      " 32  pixel_4_0  1797 non-null   float64\n",
      " 33  pixel_4_1  1797 non-null   float64\n",
      " 34  pixel_4_2  1797 non-null   float64\n",
      " 35  pixel_4_3  1797 non-null   float64\n",
      " 36  pixel_4_4  1797 non-null   float64\n",
      " 37  pixel_4_5  1797 non-null   float64\n",
      " 38  pixel_4_6  1797 non-null   float64\n",
      " 39  pixel_4_7  1797 non-null   float64\n",
      " 40  pixel_5_0  1797 non-null   float64\n",
      " 41  pixel_5_1  1797 non-null   float64\n",
      " 42  pixel_5_2  1797 non-null   float64\n",
      " 43  pixel_5_3  1797 non-null   float64\n",
      " 44  pixel_5_4  1797 non-null   float64\n",
      " 45  pixel_5_5  1797 non-null   float64\n",
      " 46  pixel_5_6  1797 non-null   float64\n",
      " 47  pixel_5_7  1797 non-null   float64\n",
      " 48  pixel_6_0  1797 non-null   float64\n",
      " 49  pixel_6_1  1797 non-null   float64\n",
      " 50  pixel_6_2  1797 non-null   float64\n",
      " 51  pixel_6_3  1797 non-null   float64\n",
      " 52  pixel_6_4  1797 non-null   float64\n",
      " 53  pixel_6_5  1797 non-null   float64\n",
      " 54  pixel_6_6  1797 non-null   float64\n",
      " 55  pixel_6_7  1797 non-null   float64\n",
      " 56  pixel_7_0  1797 non-null   float64\n",
      " 57  pixel_7_1  1797 non-null   float64\n",
      " 58  pixel_7_2  1797 non-null   float64\n",
      " 59  pixel_7_3  1797 non-null   float64\n",
      " 60  pixel_7_4  1797 non-null   float64\n",
      " 61  pixel_7_5  1797 non-null   float64\n",
      " 62  pixel_7_6  1797 non-null   float64\n",
      " 63  pixel_7_7  1797 non-null   float64\n",
      " 64  target     1797 non-null   int64  \n",
      "dtypes: float64(64), int64(1)\n",
      "memory usage: 912.7 KB\n"
     ]
    },
    {
     "data": {
      "text/plain": "       pixel_0_0    pixel_0_1    pixel_0_2    pixel_0_3    pixel_0_4  \\\ncount     1797.0  1797.000000  1797.000000  1797.000000  1797.000000   \nmean         0.0     0.303840     5.204786    11.835838    11.848080   \nstd          0.0     0.907192     4.754826     4.248842     4.287388   \nmin          0.0     0.000000     0.000000     0.000000     0.000000   \n25%          0.0     0.000000     1.000000    10.000000    10.000000   \n50%          0.0     0.000000     4.000000    13.000000    13.000000   \n75%          0.0     0.000000     9.000000    15.000000    15.000000   \nmax          0.0     8.000000    16.000000    16.000000    16.000000   \n\n         pixel_0_5    pixel_0_6    pixel_0_7    pixel_1_0    pixel_1_1  ...  \\\ncount  1797.000000  1797.000000  1797.000000  1797.000000  1797.000000  ...   \nmean      5.781859     1.362270     0.129661     0.005565     1.993879  ...   \nstd       5.666418     3.325775     1.037383     0.094222     3.196160  ...   \nmin       0.000000     0.000000     0.000000     0.000000     0.000000  ...   \n25%       0.000000     0.000000     0.000000     0.000000     0.000000  ...   \n50%       4.000000     0.000000     0.000000     0.000000     0.000000  ...   \n75%      11.000000     0.000000     0.000000     0.000000     3.000000  ...   \nmax      16.000000    16.000000    15.000000     2.000000    16.000000  ...   \n\n         pixel_6_7    pixel_7_0    pixel_7_1    pixel_7_2    pixel_7_3  \\\ncount  1797.000000  1797.000000  1797.000000  1797.000000  1797.000000   \nmean      0.206455     0.000556     0.279354     5.557596    12.089037   \nstd       0.984401     0.023590     0.934302     5.103019     4.374694   \nmin       0.000000     0.000000     0.000000     0.000000     0.000000   \n25%       0.000000     0.000000     0.000000     1.000000    11.000000   \n50%       0.000000     0.000000     0.000000     4.000000    13.000000   \n75%       0.000000     0.000000     0.000000    10.000000    16.000000   \nmax      13.000000     1.000000     9.000000    16.000000    16.000000   \n\n         pixel_7_4    pixel_7_5    pixel_7_6    pixel_7_7       target  \ncount  1797.000000  1797.000000  1797.000000  1797.000000  1797.000000  \nmean     11.809126     6.764051     2.067891     0.364496     4.490818  \nstd       4.933947     5.900623     4.090548     1.860122     2.865304  \nmin       0.000000     0.000000     0.000000     0.000000     0.000000  \n25%      10.000000     0.000000     0.000000     0.000000     2.000000  \n50%      14.000000     6.000000     0.000000     0.000000     4.000000  \n75%      16.000000    12.000000     2.000000     0.000000     7.000000  \nmax      16.000000    16.000000    16.000000    16.000000     9.000000  \n\n[8 rows x 65 columns]",
      "text/html": "<div>\n<style scoped>\n    .dataframe tbody tr th:only-of-type {\n        vertical-align: middle;\n    }\n\n    .dataframe tbody tr th {\n        vertical-align: top;\n    }\n\n    .dataframe thead th {\n        text-align: right;\n    }\n</style>\n<table border=\"1\" class=\"dataframe\">\n  <thead>\n    <tr style=\"text-align: right;\">\n      <th></th>\n      <th>pixel_0_0</th>\n      <th>pixel_0_1</th>\n      <th>pixel_0_2</th>\n      <th>pixel_0_3</th>\n      <th>pixel_0_4</th>\n      <th>pixel_0_5</th>\n      <th>pixel_0_6</th>\n      <th>pixel_0_7</th>\n      <th>pixel_1_0</th>\n      <th>pixel_1_1</th>\n      <th>...</th>\n      <th>pixel_6_7</th>\n      <th>pixel_7_0</th>\n      <th>pixel_7_1</th>\n      <th>pixel_7_2</th>\n      <th>pixel_7_3</th>\n      <th>pixel_7_4</th>\n      <th>pixel_7_5</th>\n      <th>pixel_7_6</th>\n      <th>pixel_7_7</th>\n      <th>target</th>\n    </tr>\n  </thead>\n  <tbody>\n    <tr>\n      <th>count</th>\n      <td>1797.0</td>\n      <td>1797.000000</td>\n      <td>1797.000000</td>\n      <td>1797.000000</td>\n      <td>1797.000000</td>\n      <td>1797.000000</td>\n      <td>1797.000000</td>\n      <td>1797.000000</td>\n      <td>1797.000000</td>\n      <td>1797.000000</td>\n      <td>...</td>\n      <td>1797.000000</td>\n      <td>1797.000000</td>\n      <td>1797.000000</td>\n      <td>1797.000000</td>\n      <td>1797.000000</td>\n      <td>1797.000000</td>\n      <td>1797.000000</td>\n      <td>1797.000000</td>\n      <td>1797.000000</td>\n      <td>1797.000000</td>\n    </tr>\n    <tr>\n      <th>mean</th>\n      <td>0.0</td>\n      <td>0.303840</td>\n      <td>5.204786</td>\n      <td>11.835838</td>\n      <td>11.848080</td>\n      <td>5.781859</td>\n      <td>1.362270</td>\n      <td>0.129661</td>\n      <td>0.005565</td>\n      <td>1.993879</td>\n      <td>...</td>\n      <td>0.206455</td>\n      <td>0.000556</td>\n      <td>0.279354</td>\n      <td>5.557596</td>\n      <td>12.089037</td>\n      <td>11.809126</td>\n      <td>6.764051</td>\n      <td>2.067891</td>\n      <td>0.364496</td>\n      <td>4.490818</td>\n    </tr>\n    <tr>\n      <th>std</th>\n      <td>0.0</td>\n      <td>0.907192</td>\n      <td>4.754826</td>\n      <td>4.248842</td>\n      <td>4.287388</td>\n      <td>5.666418</td>\n      <td>3.325775</td>\n      <td>1.037383</td>\n      <td>0.094222</td>\n      <td>3.196160</td>\n      <td>...</td>\n      <td>0.984401</td>\n      <td>0.023590</td>\n      <td>0.934302</td>\n      <td>5.103019</td>\n      <td>4.374694</td>\n      <td>4.933947</td>\n      <td>5.900623</td>\n      <td>4.090548</td>\n      <td>1.860122</td>\n      <td>2.865304</td>\n    </tr>\n    <tr>\n      <th>min</th>\n      <td>0.0</td>\n      <td>0.000000</td>\n      <td>0.000000</td>\n      <td>0.000000</td>\n      <td>0.000000</td>\n      <td>0.000000</td>\n      <td>0.000000</td>\n      <td>0.000000</td>\n      <td>0.000000</td>\n      <td>0.000000</td>\n      <td>...</td>\n      <td>0.000000</td>\n      <td>0.000000</td>\n      <td>0.000000</td>\n      <td>0.000000</td>\n      <td>0.000000</td>\n      <td>0.000000</td>\n      <td>0.000000</td>\n      <td>0.000000</td>\n      <td>0.000000</td>\n      <td>0.000000</td>\n    </tr>\n    <tr>\n      <th>25%</th>\n      <td>0.0</td>\n      <td>0.000000</td>\n      <td>1.000000</td>\n      <td>10.000000</td>\n      <td>10.000000</td>\n      <td>0.000000</td>\n      <td>0.000000</td>\n      <td>0.000000</td>\n      <td>0.000000</td>\n      <td>0.000000</td>\n      <td>...</td>\n      <td>0.000000</td>\n      <td>0.000000</td>\n      <td>0.000000</td>\n      <td>1.000000</td>\n      <td>11.000000</td>\n      <td>10.000000</td>\n      <td>0.000000</td>\n      <td>0.000000</td>\n      <td>0.000000</td>\n      <td>2.000000</td>\n    </tr>\n    <tr>\n      <th>50%</th>\n      <td>0.0</td>\n      <td>0.000000</td>\n      <td>4.000000</td>\n      <td>13.000000</td>\n      <td>13.000000</td>\n      <td>4.000000</td>\n      <td>0.000000</td>\n      <td>0.000000</td>\n      <td>0.000000</td>\n      <td>0.000000</td>\n      <td>...</td>\n      <td>0.000000</td>\n      <td>0.000000</td>\n      <td>0.000000</td>\n      <td>4.000000</td>\n      <td>13.000000</td>\n      <td>14.000000</td>\n      <td>6.000000</td>\n      <td>0.000000</td>\n      <td>0.000000</td>\n      <td>4.000000</td>\n    </tr>\n    <tr>\n      <th>75%</th>\n      <td>0.0</td>\n      <td>0.000000</td>\n      <td>9.000000</td>\n      <td>15.000000</td>\n      <td>15.000000</td>\n      <td>11.000000</td>\n      <td>0.000000</td>\n      <td>0.000000</td>\n      <td>0.000000</td>\n      <td>3.000000</td>\n      <td>...</td>\n      <td>0.000000</td>\n      <td>0.000000</td>\n      <td>0.000000</td>\n      <td>10.000000</td>\n      <td>16.000000</td>\n      <td>16.000000</td>\n      <td>12.000000</td>\n      <td>2.000000</td>\n      <td>0.000000</td>\n      <td>7.000000</td>\n    </tr>\n    <tr>\n      <th>max</th>\n      <td>0.0</td>\n      <td>8.000000</td>\n      <td>16.000000</td>\n      <td>16.000000</td>\n      <td>16.000000</td>\n      <td>16.000000</td>\n      <td>16.000000</td>\n      <td>15.000000</td>\n      <td>2.000000</td>\n      <td>16.000000</td>\n      <td>...</td>\n      <td>13.000000</td>\n      <td>1.000000</td>\n      <td>9.000000</td>\n      <td>16.000000</td>\n      <td>16.000000</td>\n      <td>16.000000</td>\n      <td>16.000000</td>\n      <td>16.000000</td>\n      <td>16.000000</td>\n      <td>9.000000</td>\n    </tr>\n  </tbody>\n</table>\n<p>8 rows × 65 columns</p>\n</div>"
     },
     "execution_count": 6,
     "metadata": {},
     "output_type": "execute_result"
    }
   ],
   "source": [
    "df.info()\n",
    "df.describe()"
   ],
   "metadata": {
    "collapsed": false,
    "ExecuteTime": {
     "end_time": "2024-04-11T12:06:47.227334186Z",
     "start_time": "2024-04-11T12:06:47.183912479Z"
    }
   },
   "id": "b6dd9a126da40480"
  },
  {
   "cell_type": "code",
   "execution_count": 7,
   "outputs": [
    {
     "data": {
      "text/plain": "pixel_0_0    0\npixel_0_1    0\npixel_0_2    0\npixel_0_3    0\npixel_0_4    0\n            ..\npixel_7_4    0\npixel_7_5    0\npixel_7_6    0\npixel_7_7    0\ntarget       0\nLength: 65, dtype: int64"
     },
     "execution_count": 7,
     "metadata": {},
     "output_type": "execute_result"
    }
   ],
   "source": [
    "df.isna().sum()"
   ],
   "metadata": {
    "collapsed": false,
    "ExecuteTime": {
     "end_time": "2024-04-11T12:06:47.231751988Z",
     "start_time": "2024-04-11T12:06:47.227211769Z"
    }
   },
   "id": "4dcecc6cf546ce36"
  },
  {
   "cell_type": "code",
   "execution_count": 8,
   "outputs": [],
   "source": [
    "from sklearn.model_selection import train_test_split\n",
    "y= df['target']\n",
    "X= df.drop('target',axis=1)\n",
    "X_train,X_test,y_train,y_test = train_test_split(X,y, test_size=0.2) "
   ],
   "metadata": {
    "collapsed": false,
    "ExecuteTime": {
     "end_time": "2024-04-11T12:06:47.268278694Z",
     "start_time": "2024-04-11T12:06:47.232369374Z"
    }
   },
   "id": "247e68f124b68669"
  },
  {
   "cell_type": "raw",
   "source": [
    "## I intended to evaluate the gridsearchcv performance, then \n",
    "###I split a 0.2 of data for test and did the crossvalidation process and other\n",
    "### steps on the train values. (the GridSearchCV does the  cross validation itself)\n",
    "### it also has the predict function , then for assessing the performance of GridSearchCV, I used the\n",
    "predict(X_test,y_test) in this way, I have benefited from crossvalidation , without giving all of the data to \n",
    "it,(in this way it hasnot seen all the data at first.)\n",
    "the whole result of GridSearchCV is stored in a dictionary called \"cv_results_\". I practiced to have access to different key value of it which have some equivalent(instead of accessing by key , values of 'cv_results_'dictionary, there are attributes to have access to them directly from \"clf\" itself            (clf= GridSearchCV) like it:\n",
    "\"{\"best_score\":clf.best_score_, \"best_params\":clf.best_params_}\" \n",
    "then I transformed the \"cv_results_\" to dataframe and practice accessing attributes from the dataframe , finally implement the confusion matrix on y_test, y_pred. and plot it in heatmap"
   ],
   "metadata": {
    "collapsed": false
   },
   "id": "a25931a9cc867199"
  },
  {
   "cell_type": "code",
   "execution_count": 9,
   "outputs": [
    {
     "data": {
      "text/plain": "KNeighborsClassifier(n_neighbors=3)",
      "text/html": "<style>#sk-container-id-1 {color: black;}#sk-container-id-1 pre{padding: 0;}#sk-container-id-1 div.sk-toggleable {background-color: white;}#sk-container-id-1 label.sk-toggleable__label {cursor: pointer;display: block;width: 100%;margin-bottom: 0;padding: 0.3em;box-sizing: border-box;text-align: center;}#sk-container-id-1 label.sk-toggleable__label-arrow:before {content: \"▸\";float: left;margin-right: 0.25em;color: #696969;}#sk-container-id-1 label.sk-toggleable__label-arrow:hover:before {color: black;}#sk-container-id-1 div.sk-estimator:hover label.sk-toggleable__label-arrow:before {color: black;}#sk-container-id-1 div.sk-toggleable__content {max-height: 0;max-width: 0;overflow: hidden;text-align: left;background-color: #f0f8ff;}#sk-container-id-1 div.sk-toggleable__content pre {margin: 0.2em;color: black;border-radius: 0.25em;background-color: #f0f8ff;}#sk-container-id-1 input.sk-toggleable__control:checked~div.sk-toggleable__content {max-height: 200px;max-width: 100%;overflow: auto;}#sk-container-id-1 input.sk-toggleable__control:checked~label.sk-toggleable__label-arrow:before {content: \"▾\";}#sk-container-id-1 div.sk-estimator input.sk-toggleable__control:checked~label.sk-toggleable__label {background-color: #d4ebff;}#sk-container-id-1 div.sk-label input.sk-toggleable__control:checked~label.sk-toggleable__label {background-color: #d4ebff;}#sk-container-id-1 input.sk-hidden--visually {border: 0;clip: rect(1px 1px 1px 1px);clip: rect(1px, 1px, 1px, 1px);height: 1px;margin: -1px;overflow: hidden;padding: 0;position: absolute;width: 1px;}#sk-container-id-1 div.sk-estimator {font-family: monospace;background-color: #f0f8ff;border: 1px dotted black;border-radius: 0.25em;box-sizing: border-box;margin-bottom: 0.5em;}#sk-container-id-1 div.sk-estimator:hover {background-color: #d4ebff;}#sk-container-id-1 div.sk-parallel-item::after {content: \"\";width: 100%;border-bottom: 1px solid gray;flex-grow: 1;}#sk-container-id-1 div.sk-label:hover label.sk-toggleable__label {background-color: #d4ebff;}#sk-container-id-1 div.sk-serial::before {content: \"\";position: absolute;border-left: 1px solid gray;box-sizing: border-box;top: 0;bottom: 0;left: 50%;z-index: 0;}#sk-container-id-1 div.sk-serial {display: flex;flex-direction: column;align-items: center;background-color: white;padding-right: 0.2em;padding-left: 0.2em;position: relative;}#sk-container-id-1 div.sk-item {position: relative;z-index: 1;}#sk-container-id-1 div.sk-parallel {display: flex;align-items: stretch;justify-content: center;background-color: white;position: relative;}#sk-container-id-1 div.sk-item::before, #sk-container-id-1 div.sk-parallel-item::before {content: \"\";position: absolute;border-left: 1px solid gray;box-sizing: border-box;top: 0;bottom: 0;left: 50%;z-index: -1;}#sk-container-id-1 div.sk-parallel-item {display: flex;flex-direction: column;z-index: 1;position: relative;background-color: white;}#sk-container-id-1 div.sk-parallel-item:first-child::after {align-self: flex-end;width: 50%;}#sk-container-id-1 div.sk-parallel-item:last-child::after {align-self: flex-start;width: 50%;}#sk-container-id-1 div.sk-parallel-item:only-child::after {width: 0;}#sk-container-id-1 div.sk-dashed-wrapped {border: 1px dashed gray;margin: 0 0.4em 0.5em 0.4em;box-sizing: border-box;padding-bottom: 0.4em;background-color: white;}#sk-container-id-1 div.sk-label label {font-family: monospace;font-weight: bold;display: inline-block;line-height: 1.2em;}#sk-container-id-1 div.sk-label-container {text-align: center;}#sk-container-id-1 div.sk-container {/* jupyter's `normalize.less` sets `[hidden] { display: none; }` but bootstrap.min.css set `[hidden] { display: none !important; }` so we also need the `!important` here to be able to override the default hidden behavior on the sphinx rendered scikit-learn.org. See: https://github.com/scikit-learn/scikit-learn/issues/21755 */display: inline-block !important;position: relative;}#sk-container-id-1 div.sk-text-repr-fallback {display: none;}</style><div id=\"sk-container-id-1\" class=\"sk-top-container\"><div class=\"sk-text-repr-fallback\"><pre>KNeighborsClassifier(n_neighbors=3)</pre><b>In a Jupyter environment, please rerun this cell to show the HTML representation or trust the notebook. <br />On GitHub, the HTML representation is unable to render, please try loading this page with nbviewer.org.</b></div><div class=\"sk-container\" hidden><div class=\"sk-item\"><div class=\"sk-estimator sk-toggleable\"><input class=\"sk-toggleable__control sk-hidden--visually\" id=\"sk-estimator-id-1\" type=\"checkbox\" checked><label for=\"sk-estimator-id-1\" class=\"sk-toggleable__label sk-toggleable__label-arrow\">KNeighborsClassifier</label><div class=\"sk-toggleable__content\"><pre>KNeighborsClassifier(n_neighbors=3)</pre></div></div></div></div></div>"
     },
     "execution_count": 9,
     "metadata": {},
     "output_type": "execute_result"
    }
   ],
   "source": [
    "from sklearn.neighbors import KNeighborsClassifier\n",
    "kmodel= KNeighborsClassifier(n_neighbors=3)\n",
    "kmodel"
   ],
   "metadata": {
    "collapsed": false,
    "ExecuteTime": {
     "end_time": "2024-04-11T12:06:47.316748092Z",
     "start_time": "2024-04-11T12:06:47.253291749Z"
    }
   },
   "id": "f796dd18b2dd8885"
  },
  {
   "cell_type": "code",
   "execution_count": 10,
   "outputs": [],
   "source": [
    "# from sklearn.model_selection import cross_val_score\n",
    "# k_score = cross_val_score(kmodel,X,y,cv=20)\n",
    "# k_score"
   ],
   "metadata": {
    "collapsed": false,
    "ExecuteTime": {
     "end_time": "2024-04-11T12:06:47.317013695Z",
     "start_time": "2024-04-11T12:06:47.295882813Z"
    }
   },
   "id": "1728e35abcb47592"
  },
  {
   "cell_type": "code",
   "execution_count": 11,
   "outputs": [],
   "source": [
    "from sklearn.model_selection import cross_validate\n",
    "from sklearn.metrics import confusion_matrix\n"
   ],
   "metadata": {
    "collapsed": false,
    "ExecuteTime": {
     "end_time": "2024-04-11T12:06:47.317161640Z",
     "start_time": "2024-04-11T12:06:47.296198850Z"
    }
   },
   "id": "ceff62e9ec039c73"
  },
  {
   "cell_type": "code",
   "execution_count": 12,
   "outputs": [],
   "source": [
    "# cv_results = cross_validate(kmodel,X,y,cv=3, return_estimator=True)\n",
    "# # cv_results['cv']\n",
    "# print(cv_results.keys())\n",
    "# # dir(cv_results)\n",
    "# # print(cv_results.values())"
   ],
   "metadata": {
    "collapsed": false,
    "ExecuteTime": {
     "end_time": "2024-04-11T12:06:47.317305026Z",
     "start_time": "2024-04-11T12:06:47.296348548Z"
    }
   },
   "id": "46b02f58a19646fa"
  },
  {
   "cell_type": "code",
   "execution_count": 13,
   "outputs": [
    {
     "data": {
      "text/plain": "[{'best_score': 0.9854068857589985, 'best_params': {'n_neighbors': 5}}]"
     },
     "execution_count": 13,
     "metadata": {},
     "output_type": "execute_result"
    }
   ],
   "source": [
    "from sklearn.model_selection import GridSearchCV\n",
    "\n",
    "scores=[]\n",
    "params={'n_neighbors':[5,10,15,20,25,35,50,100,150,200,250]}\n",
    "\n",
    "\n",
    "kmodel= KNeighborsClassifier()\n",
    "\n",
    "    \n",
    "clf= GridSearchCV(kmodel,params, cv=20,return_train_score=False)\n",
    "clf.fit(X_train,y_train)\n",
    "scores.append({\"best_score\":clf.best_score_, \"best_params\":clf.best_params_})\n",
    "scores\n"
   ],
   "metadata": {
    "collapsed": false,
    "ExecuteTime": {
     "end_time": "2024-04-11T12:06:48.580240193Z",
     "start_time": "2024-04-11T12:06:47.296560281Z"
    }
   },
   "id": "62186c62962951cd"
  },
  {
   "cell_type": "code",
   "execution_count": 14,
   "outputs": [
    {
     "data": {
      "text/plain": "{'mean_fit_time': array([0.0016843 , 0.00132825, 0.00125177, 0.0018188 , 0.0017936 ,\n        0.00208844, 0.00177243, 0.00160813, 0.00152717, 0.00137302,\n        0.00132322]),\n 'std_fit_time': array([3.75631944e-04, 1.14961248e-04, 4.74174996e-05, 9.77450684e-04,\n        3.32836938e-04, 6.37042065e-04, 4.03350369e-04, 8.75267044e-05,\n        6.90771660e-05, 2.95853501e-04, 1.43962520e-04]),\n 'mean_score_time': array([0.0039665 , 0.002463  , 0.00229999, 0.00899066, 0.00361373,\n        0.00377897, 0.00384322, 0.00381265, 0.00378722, 0.00350871,\n        0.00361409]),\n 'std_score_time': array([4.80873821e-03, 2.61697332e-04, 8.45040769e-05, 1.46720676e-02,\n        2.32019571e-03, 1.14244506e-03, 9.61462213e-04, 1.45488546e-04,\n        1.96493000e-04, 7.22407116e-04, 6.04942169e-04]),\n 'param_n_neighbors': masked_array(data=[5, 10, 15, 20, 25, 35, 50, 100, 150, 200, 250],\n              mask=[False, False, False, False, False, False, False, False,\n                    False, False, False],\n        fill_value='?',\n             dtype=object),\n 'params': [{'n_neighbors': 5},\n  {'n_neighbors': 10},\n  {'n_neighbors': 15},\n  {'n_neighbors': 20},\n  {'n_neighbors': 25},\n  {'n_neighbors': 35},\n  {'n_neighbors': 50},\n  {'n_neighbors': 100},\n  {'n_neighbors': 150},\n  {'n_neighbors': 200},\n  {'n_neighbors': 250}],\n 'split0_test_score': array([1.        , 1.        , 1.        , 1.        , 1.        ,\n        0.98611111, 0.97222222, 0.95833333, 0.93055556, 0.86111111,\n        0.86111111]),\n 'split1_test_score': array([0.97222222, 0.97222222, 0.95833333, 0.95833333, 0.94444444,\n        0.97222222, 0.93055556, 0.875     , 0.83333333, 0.80555556,\n        0.76388889]),\n 'split2_test_score': array([1.        , 1.        , 1.        , 1.        , 1.        ,\n        1.        , 0.98611111, 0.91666667, 0.90277778, 0.90277778,\n        0.86111111]),\n 'split3_test_score': array([0.98611111, 0.98611111, 0.98611111, 0.98611111, 0.98611111,\n        0.98611111, 0.95833333, 0.95833333, 0.95833333, 0.94444444,\n        0.90277778]),\n 'split4_test_score': array([0.98611111, 0.97222222, 0.95833333, 0.94444444, 0.94444444,\n        0.94444444, 0.875     , 0.86111111, 0.83333333, 0.81944444,\n        0.79166667]),\n 'split5_test_score': array([0.97222222, 0.98611111, 0.98611111, 0.98611111, 0.97222222,\n        0.97222222, 0.97222222, 0.94444444, 0.93055556, 0.94444444,\n        0.90277778]),\n 'split6_test_score': array([0.95833333, 0.94444444, 0.94444444, 0.91666667, 0.91666667,\n        0.90277778, 0.90277778, 0.875     , 0.875     , 0.88888889,\n        0.88888889]),\n 'split7_test_score': array([0.98611111, 0.98611111, 0.98611111, 0.98611111, 0.98611111,\n        0.95833333, 0.93055556, 0.93055556, 0.91666667, 0.91666667,\n        0.88888889]),\n 'split8_test_score': array([1.        , 1.        , 1.        , 0.98611111, 0.97222222,\n        0.97222222, 0.95833333, 0.94444444, 0.90277778, 0.84722222,\n        0.80555556]),\n 'split9_test_score': array([0.98611111, 0.98611111, 0.98611111, 0.98611111, 0.98611111,\n        0.97222222, 0.94444444, 0.93055556, 0.91666667, 0.91666667,\n        0.90277778]),\n 'split10_test_score': array([0.97222222, 0.97222222, 0.97222222, 0.95833333, 0.95833333,\n        0.93055556, 0.91666667, 0.86111111, 0.83333333, 0.83333333,\n        0.83333333]),\n 'split11_test_score': array([1.        , 1.        , 1.        , 0.98611111, 0.98611111,\n        0.98611111, 0.95833333, 0.95833333, 0.90277778, 0.88888889,\n        0.875     ]),\n 'split12_test_score': array([0.97222222, 0.95833333, 0.95833333, 0.94444444, 0.93055556,\n        0.93055556, 0.93055556, 0.88888889, 0.88888889, 0.88888889,\n        0.875     ]),\n 'split13_test_score': array([0.98611111, 0.97222222, 0.97222222, 0.97222222, 0.95833333,\n        0.95833333, 0.95833333, 0.91666667, 0.88888889, 0.88888889,\n        0.875     ]),\n 'split14_test_score': array([0.98611111, 0.98611111, 0.98611111, 0.97222222, 0.95833333,\n        0.95833333, 0.93055556, 0.94444444, 0.875     , 0.875     ,\n        0.875     ]),\n 'split15_test_score': array([0.98611111, 1.        , 1.        , 1.        , 1.        ,\n        0.98611111, 0.98611111, 0.97222222, 0.95833333, 0.91666667,\n        0.91666667]),\n 'split16_test_score': array([0.97222222, 0.98611111, 0.97222222, 0.94444444, 0.94444444,\n        0.93055556, 0.93055556, 0.88888889, 0.86111111, 0.86111111,\n        0.83333333]),\n 'split17_test_score': array([0.98591549, 0.97183099, 0.97183099, 0.94366197, 0.92957746,\n        0.94366197, 0.92957746, 0.87323944, 0.84507042, 0.83098592,\n        0.81690141]),\n 'split18_test_score': array([1.        , 0.95774648, 0.95774648, 0.94366197, 0.94366197,\n        0.92957746, 0.91549296, 0.91549296, 0.90140845, 0.85915493,\n        0.83098592]),\n 'split19_test_score': array([1.        , 0.98591549, 1.        , 1.        , 0.97183099,\n        0.95774648, 0.92957746, 0.91549296, 0.91549296, 0.91549296,\n        0.88732394]),\n 'mean_test_score': array([0.98540689, 0.98119131, 0.97981221, 0.97075509, 0.96447574,\n        0.95891041, 0.94081573, 0.91646127, 0.89351526, 0.88028169,\n        0.85939945]),\n 'std_test_score': array([0.01200758, 0.01544061, 0.01732338, 0.0241031 , 0.02473533,\n        0.02472257, 0.02747606, 0.03469256, 0.03742484, 0.03903148,\n        0.04062292]),\n 'rank_test_score': array([ 1,  2,  3,  4,  5,  6,  7,  8,  9, 10, 11], dtype=int32)}"
     },
     "execution_count": 14,
     "metadata": {},
     "output_type": "execute_result"
    }
   ],
   "source": [
    "clf.cv_results_\n"
   ],
   "metadata": {
    "collapsed": false,
    "ExecuteTime": {
     "end_time": "2024-04-11T12:06:48.586690870Z",
     "start_time": "2024-04-11T12:06:48.584105961Z"
    }
   },
   "id": "bff39357def96229"
  },
  {
   "cell_type": "code",
   "execution_count": 15,
   "outputs": [
    {
     "data": {
      "text/plain": "    mean_fit_time  std_fit_time  mean_score_time  std_score_time  \\\n0        0.001684      0.000376         0.003966        0.004809   \n1        0.001328      0.000115         0.002463        0.000262   \n2        0.001252      0.000047         0.002300        0.000085   \n3        0.001819      0.000977         0.008991        0.014672   \n4        0.001794      0.000333         0.003614        0.002320   \n5        0.002088      0.000637         0.003779        0.001142   \n6        0.001772      0.000403         0.003843        0.000961   \n7        0.001608      0.000088         0.003813        0.000145   \n8        0.001527      0.000069         0.003787        0.000196   \n9        0.001373      0.000296         0.003509        0.000722   \n10       0.001323      0.000144         0.003614        0.000605   \n\n   param_n_neighbors                params  split0_test_score  \\\n0                  5    {'n_neighbors': 5}           1.000000   \n1                 10   {'n_neighbors': 10}           1.000000   \n2                 15   {'n_neighbors': 15}           1.000000   \n3                 20   {'n_neighbors': 20}           1.000000   \n4                 25   {'n_neighbors': 25}           1.000000   \n5                 35   {'n_neighbors': 35}           0.986111   \n6                 50   {'n_neighbors': 50}           0.972222   \n7                100  {'n_neighbors': 100}           0.958333   \n8                150  {'n_neighbors': 150}           0.930556   \n9                200  {'n_neighbors': 200}           0.861111   \n10               250  {'n_neighbors': 250}           0.861111   \n\n    split1_test_score  split2_test_score  split3_test_score  ...  \\\n0            0.972222           1.000000           0.986111  ...   \n1            0.972222           1.000000           0.986111  ...   \n2            0.958333           1.000000           0.986111  ...   \n3            0.958333           1.000000           0.986111  ...   \n4            0.944444           1.000000           0.986111  ...   \n5            0.972222           1.000000           0.986111  ...   \n6            0.930556           0.986111           0.958333  ...   \n7            0.875000           0.916667           0.958333  ...   \n8            0.833333           0.902778           0.958333  ...   \n9            0.805556           0.902778           0.944444  ...   \n10           0.763889           0.861111           0.902778  ...   \n\n    split13_test_score  split14_test_score  split15_test_score  \\\n0             0.986111            0.986111            0.986111   \n1             0.972222            0.986111            1.000000   \n2             0.972222            0.986111            1.000000   \n3             0.972222            0.972222            1.000000   \n4             0.958333            0.958333            1.000000   \n5             0.958333            0.958333            0.986111   \n6             0.958333            0.930556            0.986111   \n7             0.916667            0.944444            0.972222   \n8             0.888889            0.875000            0.958333   \n9             0.888889            0.875000            0.916667   \n10            0.875000            0.875000            0.916667   \n\n    split16_test_score  split17_test_score  split18_test_score  \\\n0             0.972222            0.985915            1.000000   \n1             0.986111            0.971831            0.957746   \n2             0.972222            0.971831            0.957746   \n3             0.944444            0.943662            0.943662   \n4             0.944444            0.929577            0.943662   \n5             0.930556            0.943662            0.929577   \n6             0.930556            0.929577            0.915493   \n7             0.888889            0.873239            0.915493   \n8             0.861111            0.845070            0.901408   \n9             0.861111            0.830986            0.859155   \n10            0.833333            0.816901            0.830986   \n\n    split19_test_score  mean_test_score  std_test_score  rank_test_score  \n0             1.000000         0.985407        0.012008                1  \n1             0.985915         0.981191        0.015441                2  \n2             1.000000         0.979812        0.017323                3  \n3             1.000000         0.970755        0.024103                4  \n4             0.971831         0.964476        0.024735                5  \n5             0.957746         0.958910        0.024723                6  \n6             0.929577         0.940816        0.027476                7  \n7             0.915493         0.916461        0.034693                8  \n8             0.915493         0.893515        0.037425                9  \n9             0.915493         0.880282        0.039031               10  \n10            0.887324         0.859399        0.040623               11  \n\n[11 rows x 29 columns]",
      "text/html": "<div>\n<style scoped>\n    .dataframe tbody tr th:only-of-type {\n        vertical-align: middle;\n    }\n\n    .dataframe tbody tr th {\n        vertical-align: top;\n    }\n\n    .dataframe thead th {\n        text-align: right;\n    }\n</style>\n<table border=\"1\" class=\"dataframe\">\n  <thead>\n    <tr style=\"text-align: right;\">\n      <th></th>\n      <th>mean_fit_time</th>\n      <th>std_fit_time</th>\n      <th>mean_score_time</th>\n      <th>std_score_time</th>\n      <th>param_n_neighbors</th>\n      <th>params</th>\n      <th>split0_test_score</th>\n      <th>split1_test_score</th>\n      <th>split2_test_score</th>\n      <th>split3_test_score</th>\n      <th>...</th>\n      <th>split13_test_score</th>\n      <th>split14_test_score</th>\n      <th>split15_test_score</th>\n      <th>split16_test_score</th>\n      <th>split17_test_score</th>\n      <th>split18_test_score</th>\n      <th>split19_test_score</th>\n      <th>mean_test_score</th>\n      <th>std_test_score</th>\n      <th>rank_test_score</th>\n    </tr>\n  </thead>\n  <tbody>\n    <tr>\n      <th>0</th>\n      <td>0.001684</td>\n      <td>0.000376</td>\n      <td>0.003966</td>\n      <td>0.004809</td>\n      <td>5</td>\n      <td>{'n_neighbors': 5}</td>\n      <td>1.000000</td>\n      <td>0.972222</td>\n      <td>1.000000</td>\n      <td>0.986111</td>\n      <td>...</td>\n      <td>0.986111</td>\n      <td>0.986111</td>\n      <td>0.986111</td>\n      <td>0.972222</td>\n      <td>0.985915</td>\n      <td>1.000000</td>\n      <td>1.000000</td>\n      <td>0.985407</td>\n      <td>0.012008</td>\n      <td>1</td>\n    </tr>\n    <tr>\n      <th>1</th>\n      <td>0.001328</td>\n      <td>0.000115</td>\n      <td>0.002463</td>\n      <td>0.000262</td>\n      <td>10</td>\n      <td>{'n_neighbors': 10}</td>\n      <td>1.000000</td>\n      <td>0.972222</td>\n      <td>1.000000</td>\n      <td>0.986111</td>\n      <td>...</td>\n      <td>0.972222</td>\n      <td>0.986111</td>\n      <td>1.000000</td>\n      <td>0.986111</td>\n      <td>0.971831</td>\n      <td>0.957746</td>\n      <td>0.985915</td>\n      <td>0.981191</td>\n      <td>0.015441</td>\n      <td>2</td>\n    </tr>\n    <tr>\n      <th>2</th>\n      <td>0.001252</td>\n      <td>0.000047</td>\n      <td>0.002300</td>\n      <td>0.000085</td>\n      <td>15</td>\n      <td>{'n_neighbors': 15}</td>\n      <td>1.000000</td>\n      <td>0.958333</td>\n      <td>1.000000</td>\n      <td>0.986111</td>\n      <td>...</td>\n      <td>0.972222</td>\n      <td>0.986111</td>\n      <td>1.000000</td>\n      <td>0.972222</td>\n      <td>0.971831</td>\n      <td>0.957746</td>\n      <td>1.000000</td>\n      <td>0.979812</td>\n      <td>0.017323</td>\n      <td>3</td>\n    </tr>\n    <tr>\n      <th>3</th>\n      <td>0.001819</td>\n      <td>0.000977</td>\n      <td>0.008991</td>\n      <td>0.014672</td>\n      <td>20</td>\n      <td>{'n_neighbors': 20}</td>\n      <td>1.000000</td>\n      <td>0.958333</td>\n      <td>1.000000</td>\n      <td>0.986111</td>\n      <td>...</td>\n      <td>0.972222</td>\n      <td>0.972222</td>\n      <td>1.000000</td>\n      <td>0.944444</td>\n      <td>0.943662</td>\n      <td>0.943662</td>\n      <td>1.000000</td>\n      <td>0.970755</td>\n      <td>0.024103</td>\n      <td>4</td>\n    </tr>\n    <tr>\n      <th>4</th>\n      <td>0.001794</td>\n      <td>0.000333</td>\n      <td>0.003614</td>\n      <td>0.002320</td>\n      <td>25</td>\n      <td>{'n_neighbors': 25}</td>\n      <td>1.000000</td>\n      <td>0.944444</td>\n      <td>1.000000</td>\n      <td>0.986111</td>\n      <td>...</td>\n      <td>0.958333</td>\n      <td>0.958333</td>\n      <td>1.000000</td>\n      <td>0.944444</td>\n      <td>0.929577</td>\n      <td>0.943662</td>\n      <td>0.971831</td>\n      <td>0.964476</td>\n      <td>0.024735</td>\n      <td>5</td>\n    </tr>\n    <tr>\n      <th>5</th>\n      <td>0.002088</td>\n      <td>0.000637</td>\n      <td>0.003779</td>\n      <td>0.001142</td>\n      <td>35</td>\n      <td>{'n_neighbors': 35}</td>\n      <td>0.986111</td>\n      <td>0.972222</td>\n      <td>1.000000</td>\n      <td>0.986111</td>\n      <td>...</td>\n      <td>0.958333</td>\n      <td>0.958333</td>\n      <td>0.986111</td>\n      <td>0.930556</td>\n      <td>0.943662</td>\n      <td>0.929577</td>\n      <td>0.957746</td>\n      <td>0.958910</td>\n      <td>0.024723</td>\n      <td>6</td>\n    </tr>\n    <tr>\n      <th>6</th>\n      <td>0.001772</td>\n      <td>0.000403</td>\n      <td>0.003843</td>\n      <td>0.000961</td>\n      <td>50</td>\n      <td>{'n_neighbors': 50}</td>\n      <td>0.972222</td>\n      <td>0.930556</td>\n      <td>0.986111</td>\n      <td>0.958333</td>\n      <td>...</td>\n      <td>0.958333</td>\n      <td>0.930556</td>\n      <td>0.986111</td>\n      <td>0.930556</td>\n      <td>0.929577</td>\n      <td>0.915493</td>\n      <td>0.929577</td>\n      <td>0.940816</td>\n      <td>0.027476</td>\n      <td>7</td>\n    </tr>\n    <tr>\n      <th>7</th>\n      <td>0.001608</td>\n      <td>0.000088</td>\n      <td>0.003813</td>\n      <td>0.000145</td>\n      <td>100</td>\n      <td>{'n_neighbors': 100}</td>\n      <td>0.958333</td>\n      <td>0.875000</td>\n      <td>0.916667</td>\n      <td>0.958333</td>\n      <td>...</td>\n      <td>0.916667</td>\n      <td>0.944444</td>\n      <td>0.972222</td>\n      <td>0.888889</td>\n      <td>0.873239</td>\n      <td>0.915493</td>\n      <td>0.915493</td>\n      <td>0.916461</td>\n      <td>0.034693</td>\n      <td>8</td>\n    </tr>\n    <tr>\n      <th>8</th>\n      <td>0.001527</td>\n      <td>0.000069</td>\n      <td>0.003787</td>\n      <td>0.000196</td>\n      <td>150</td>\n      <td>{'n_neighbors': 150}</td>\n      <td>0.930556</td>\n      <td>0.833333</td>\n      <td>0.902778</td>\n      <td>0.958333</td>\n      <td>...</td>\n      <td>0.888889</td>\n      <td>0.875000</td>\n      <td>0.958333</td>\n      <td>0.861111</td>\n      <td>0.845070</td>\n      <td>0.901408</td>\n      <td>0.915493</td>\n      <td>0.893515</td>\n      <td>0.037425</td>\n      <td>9</td>\n    </tr>\n    <tr>\n      <th>9</th>\n      <td>0.001373</td>\n      <td>0.000296</td>\n      <td>0.003509</td>\n      <td>0.000722</td>\n      <td>200</td>\n      <td>{'n_neighbors': 200}</td>\n      <td>0.861111</td>\n      <td>0.805556</td>\n      <td>0.902778</td>\n      <td>0.944444</td>\n      <td>...</td>\n      <td>0.888889</td>\n      <td>0.875000</td>\n      <td>0.916667</td>\n      <td>0.861111</td>\n      <td>0.830986</td>\n      <td>0.859155</td>\n      <td>0.915493</td>\n      <td>0.880282</td>\n      <td>0.039031</td>\n      <td>10</td>\n    </tr>\n    <tr>\n      <th>10</th>\n      <td>0.001323</td>\n      <td>0.000144</td>\n      <td>0.003614</td>\n      <td>0.000605</td>\n      <td>250</td>\n      <td>{'n_neighbors': 250}</td>\n      <td>0.861111</td>\n      <td>0.763889</td>\n      <td>0.861111</td>\n      <td>0.902778</td>\n      <td>...</td>\n      <td>0.875000</td>\n      <td>0.875000</td>\n      <td>0.916667</td>\n      <td>0.833333</td>\n      <td>0.816901</td>\n      <td>0.830986</td>\n      <td>0.887324</td>\n      <td>0.859399</td>\n      <td>0.040623</td>\n      <td>11</td>\n    </tr>\n  </tbody>\n</table>\n<p>11 rows × 29 columns</p>\n</div>"
     },
     "execution_count": 15,
     "metadata": {},
     "output_type": "execute_result"
    }
   ],
   "source": [
    "res=pd.DataFrame(clf.cv_results_)\n",
    "res"
   ],
   "metadata": {
    "collapsed": false,
    "ExecuteTime": {
     "end_time": "2024-04-11T12:06:48.632805141Z",
     "start_time": "2024-04-11T12:06:48.587752481Z"
    }
   },
   "id": "ddaa5ec3ea9eeaad"
  },
  {
   "cell_type": "code",
   "execution_count": 16,
   "outputs": [
    {
     "data": {
      "text/plain": "mean_fit_time                   0.001684\nstd_fit_time                    0.000376\nmean_score_time                 0.003966\nstd_score_time                  0.004809\nparam_n_neighbors                      5\nparams                {'n_neighbors': 5}\nsplit0_test_score                    1.0\nsplit1_test_score               0.972222\nsplit2_test_score                    1.0\nsplit3_test_score               0.986111\nsplit4_test_score               0.986111\nsplit5_test_score               0.972222\nsplit6_test_score               0.958333\nsplit7_test_score               0.986111\nsplit8_test_score                    1.0\nsplit9_test_score               0.986111\nsplit10_test_score              0.972222\nsplit11_test_score                   1.0\nsplit12_test_score              0.972222\nsplit13_test_score              0.986111\nsplit14_test_score              0.986111\nsplit15_test_score              0.986111\nsplit16_test_score              0.972222\nsplit17_test_score              0.985915\nsplit18_test_score                   1.0\nsplit19_test_score                   1.0\nmean_test_score                 0.985407\nstd_test_score                  0.012008\nrank_test_score                        1\nName: 0, dtype: object"
     },
     "execution_count": 16,
     "metadata": {},
     "output_type": "execute_result"
    }
   ],
   "source": [
    "# clf.cv_results_['split0_test_score']\n",
    "max_index=res['mean_test_score'].idxmax()\n",
    "whole_row=res.loc[max_index]\n",
    "whole_row\n"
   ],
   "metadata": {
    "collapsed": false,
    "ExecuteTime": {
     "end_time": "2024-04-11T12:06:48.633666490Z",
     "start_time": "2024-04-11T12:06:48.631916020Z"
    }
   },
   "id": "7dc56de70c6e0260"
  },
  {
   "cell_type": "code",
   "execution_count": 18,
   "outputs": [
    {
     "data": {
      "text/plain": "[{'best_score': 0.9854068857589985, 'best_params': {'n_neighbors': 5}}]"
     },
     "execution_count": 18,
     "metadata": {},
     "output_type": "execute_result"
    }
   ],
   "source": [
    "\n",
    "y_preds=clf.predict(X_test)\n",
    "y_preds\n",
    "score= clf.score(X_test,y_test)\n",
    "scores"
   ],
   "metadata": {
    "collapsed": false,
    "ExecuteTime": {
     "end_time": "2024-04-11T12:11:26.803278281Z",
     "start_time": "2024-04-11T12:11:26.772393553Z"
    }
   },
   "id": "fa264c1a71564b3b"
  },
  {
   "cell_type": "code",
   "execution_count": 19,
   "outputs": [
    {
     "data": {
      "text/plain": "array([[50,  0,  0,  0,  0,  0,  0,  0,  0,  0],\n       [ 0, 29,  0,  0,  0,  0,  0,  0,  0,  0],\n       [ 0,  0, 45,  0,  0,  0,  0,  0,  0,  0],\n       [ 0,  0,  0, 27,  0,  0,  0,  1,  0,  0],\n       [ 0,  0,  0,  0, 37,  0,  0,  0,  0,  0],\n       [ 0,  0,  0,  0,  0, 31,  0,  0,  0,  0],\n       [ 0,  0,  0,  0,  0,  0, 40,  0,  0,  0],\n       [ 0,  0,  0,  0,  0,  0,  0, 30,  0,  0],\n       [ 0,  1,  0,  0,  0,  0,  0,  0, 34,  0],\n       [ 0,  0,  0,  1,  0,  1,  0,  0,  1, 32]])"
     },
     "execution_count": 19,
     "metadata": {},
     "output_type": "execute_result"
    }
   ],
   "source": [
    "from sklearn.metrics import confusion_matrix\n",
    "cm= confusion_matrix(y_test,y_preds)\n",
    "cm"
   ],
   "metadata": {
    "collapsed": false,
    "ExecuteTime": {
     "end_time": "2024-04-11T12:11:58.035634970Z",
     "start_time": "2024-04-11T12:11:58.026060967Z"
    }
   },
   "id": "c4d77ddee0cee57a"
  },
  {
   "cell_type": "code",
   "execution_count": 20,
   "outputs": [
    {
     "data": {
      "text/plain": "<Axes: >"
     },
     "execution_count": 20,
     "metadata": {},
     "output_type": "execute_result"
    },
    {
     "data": {
      "text/plain": "<Figure size 640x480 with 2 Axes>",
      "image/png": "[encoded data removed]"
     },
     "metadata": {},
     "output_type": "display_data"
    }
   ],
   "source": [
    "sns.heatmap(cm,annot=True)"
   ],
   "metadata": {
    "collapsed": false,
    "ExecuteTime": {
     "end_time": "2024-04-11T12:12:29.094880057Z",
     "start_time": "2024-04-11T12:12:28.762670615Z"
    }
   },
   "id": "ff05a119de75f619"
  },
  {
   "cell_type": "code",
   "execution_count": null,
   "outputs": [],
   "source": [],
   "metadata": {
    "collapsed": false
   },
   "id": "6f6d6eae433c7209"
  }
 ],
 "metadata": {
  "kernelspec": {
   "display_name": "Python 3",
   "language": "python",
   "name": "python3"
  },
  "language_info": {
   "codemirror_mode": {
    "name": "ipython",
    "version": 2
   },
   "file_extension": ".py",
   "mimetype": "text/x-python",
   "name": "python",
   "nbconvert_exporter": "python",
   "pygments_lexer": "ipython2",
   "version": "2.7.6"
  }
 },
 "nbformat": 4,
 "nbformat_minor": 5
}
