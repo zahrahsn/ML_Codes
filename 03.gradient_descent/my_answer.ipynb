{
 "cells": [
  {
   "cell_type": "code",
   "execution_count": 89,
   "id": "initial_id",
   "metadata": {
    "collapsed": true,
    "ExecuteTime": {
     "end_time": "2024-02-27T16:36:23.886150874Z",
     "start_time": "2024-02-27T16:36:23.882568797Z"
    }
   },
   "outputs": [],
   "source": [
    "import numpy as np\n",
    "import pandas as pd\n",
    "import matplotlib.pyplot as plt\n",
    "import seaborn as sns\n",
    "import math\n",
    "from sklearn.linear_model import LinearRegression\n",
    "from sklearn.metrics import mean_squared_error,r2_score"
   ]
  },
  {
   "cell_type": "code",
   "execution_count": 90,
   "outputs": [
    {
     "name": "stdout",
     "output_type": "stream",
     "text": [
      "i:0,m_curr: 1.03434,b_curr:0.999084,loss_f:54.42000000000005\n",
      "i:5,m_curr: 1.0306636861266072,b_curr:0.9990847174836384,loss_f:31.652693443788618\n",
      "i:10,m_curr: 1.0306629426396074,b_curr:0.9991372974068606,loss_f:31.652687913287213\n",
      "i:15,m_curr: 1.0306622007339628,b_curr:0.9991898743340621,loss_f:31.65268238342459\n",
      "i:20,m_curr: 1.0306614588708993,b_curr:0.9992424482437028,loss_f:31.652676854196724\n",
      "i:25,m_curr: 1.0306607170504136,b_curr:0.9992950191359556,loss_f:31.652671325603524\n",
      "i:30,m_curr: 1.0306599752725034,b_curr:0.9993475870109939,loss_f:31.652665797644886\n",
      "i:35,m_curr: 1.0306592335371665,b_curr:0.9994001518689909,loss_f:31.65266027032077\n",
      "i:40,m_curr: 1.0306584918444,b_curr:0.9994527137101196,loss_f:31.6526547436311\n",
      "i:45,m_curr: 1.0306577501942016,b_curr:0.9995052725345532,loss_f:31.652649217575828\n",
      "i:50,m_curr: 1.030657008586569,b_curr:0.9995578283424649,loss_f:31.65264369215483\n",
      "i:55,m_curr: 1.0306562670214996,b_curr:0.9996103811340278,loss_f:31.652638167368043\n",
      "i:60,m_curr: 1.030655525498991,b_curr:0.9996629309094149,loss_f:31.652632643215455\n",
      "i:65,m_curr: 1.0306547840190412,b_curr:0.9997154776687996,loss_f:31.652627119696902\n",
      "i:70,m_curr: 1.0306540425816468,b_curr:0.9997680214123549,loss_f:31.652621596812374\n",
      "i:75,m_curr: 1.0306533011868062,b_curr:0.9998205621402536,loss_f:31.65261607456179\n",
      "i:80,m_curr: 1.0306525598345166,b_curr:0.999873099852669,loss_f:31.652610552945056\n",
      "i:85,m_curr: 1.0306518185247757,b_curr:0.9999256345497742,loss_f:31.652605031962107\n",
      "i:90,m_curr: 1.030651077257581,b_curr:0.9999781662317423,loss_f:31.65259951161287\n",
      "i:95,m_curr: 1.0306503360329298,b_curr:1.0000306948987463,loss_f:31.652593991897305\n",
      "m_cu:1.0306497430838388, b_cu:1.0000727156616915\n",
      "model\"s coef: [1.01773624]\n",
      "model\"s intercept: 1.9152193111569034\n",
      "Metrics from scikit-learn Linear Regression:\n",
      "MSE: 31.604511333529587\n",
      "R-squared: 0.8990561457295679\n"
     ]
    },
    {
     "data": {
      "text/plain": "<Figure size 640x480 with 1 Axes>",
      "image/png": "[encoded data removed]"
     },
     "metadata": {},
     "output_type": "display_data"
    }
   ],
   "source": [
    "def grad(X, Y):\n",
    "    n = len(X)\n",
    "    m_curr = 1.1\n",
    "    b_curr = 1\n",
    "    iteration = 100\n",
    "    learning_rate = 0.0001\n",
    "    l_list = []\n",
    "    for i in range(iteration):\n",
    "\n",
    "        y_pred = m_curr * X + b_curr\n",
    "        l_f = (1 / n) * (sum((Y - (y_pred)) ** 2))\n",
    "        l_list.append(l_f)\n",
    "\n",
    "        d_m = -(2 / n) * sum(X * (Y - (y_pred)))\n",
    "        d_b = -(2 / n) * sum(Y - (y_pred))\n",
    "        m_curr = m_curr - (learning_rate * d_m)\n",
    "        b_curr = b_curr - (learning_rate * d_b)\n",
    "        sns.scatterplot(x=X, y=Y, marker='+', color=\"red\")\n",
    "        plt.ylim(0, max(Y))\n",
    "        plt.plot(X, y_pred, color='green')\n",
    "        if i % 5 == 0:\n",
    "            print(f'i:{i},m_curr: {m_curr},b_curr:{b_curr},loss_f:{l_f}')\n",
    "        if len(l_list) > 1:\n",
    "            if math.isclose(l_f, l_list[-2], rel_tol=1e-20):\n",
    "                break\n",
    "    return m_curr,b_curr\n",
    "\n",
    "# x = np.array([1, 2, 3, 4, 5])\n",
    "# y = np.array([5, 7, 9, 11, 13])\n",
    "# grad(x, y)\n",
    "\n",
    "# \n",
    "df = pd.read_csv(\"test_scores.csv\")\n",
    "x = np.array(df.math)\n",
    "y = np.array(df.cs)\n",
    "# print(type(x),x)\n",
    "m_cu, b_cu =grad(x, y)\n",
    "print(f'm_cu:{m_cu}, b_cu:{b_cu}')\n",
    "\n",
    "l_model = LinearRegression()\n",
    "reshaped_x= x.reshape(-1,1)\n",
    "# print(type(reshaped_x),reshaped_x)\n",
    "l_model.fit(reshaped_x,y)\n",
    "print(f'model\"s coef: {l_model.coef_}')\n",
    "print(f'model\"s intercept: {l_model.intercept_}')\n",
    "y_pred_sklearn = l_model.predict(reshaped_x)\n",
    "\n",
    "# Calculate MSE and R-squared for scikit-learn model\n",
    "mse_sklearn = mean_squared_error(y, y_pred_sklearn)\n",
    "r2_sklearn = r2_score(y, y_pred_sklearn)\n",
    "\n",
    "print(\"Metrics from scikit-learn Linear Regression:\")\n",
    "print(f'MSE: {mse_sklearn}')\n",
    "print(f'R-squared: {r2_sklearn}')\n",
    "\n"
   ],
   "metadata": {
    "collapsed": false,
    "ExecuteTime": {
     "end_time": "2024-02-27T16:36:28.959502118Z",
     "start_time": "2024-02-27T16:36:27.933057676Z"
    }
   },
   "id": "6abb317af9ebcad2"
  },
  {
   "cell_type": "code",
   "execution_count": 84,
   "outputs": [],
   "source": [],
   "metadata": {
    "collapsed": false,
    "ExecuteTime": {
     "end_time": "2024-02-27T15:53:48.684572022Z",
     "start_time": "2024-02-27T15:53:48.683024890Z"
    }
   },
   "id": "2c850350067b8629"
  }
 ],
 "metadata": {
  "kernelspec": {
   "display_name": "Python 3",
   "language": "python",
   "name": "python3"
  },
  "language_info": {
   "codemirror_mode": {
    "name": "ipython",
    "version": 2
   },
   "file_extension": ".py",
   "mimetype": "text/x-python",
   "name": "python",
   "nbconvert_exporter": "python",
   "pygments_lexer": "ipython2",
   "version": "2.7.6"
  }
 },
 "nbformat": 4,
 "nbformat_minor": 5
}
